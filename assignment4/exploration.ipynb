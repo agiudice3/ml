{
 "cells": [
  {
   "cell_type": "markdown",
   "metadata": {},
   "source": [
    "# Exploration vs. Exploitation"
   ]
  },
  {
   "cell_type": "code",
   "execution_count": 8,
   "metadata": {},
   "outputs": [
    {
     "name": "stderr",
     "output_type": "stream",
     "text": [
      "  0%|          | 0/10000 [00:00<?, ?it/s]"
     ]
    },
    {
     "name": "stderr",
     "output_type": "stream",
     "text": [
      "/Users/aaron/Projects/bettermdptools/bettermdptools/lib/python3.11/site-packages/gymnasium/utils/passive_env_checker.py:233: DeprecationWarning: `np.bool8` is a deprecated alias for `np.bool_`.  (Deprecated NumPy 1.24)\n",
      "  if not isinstance(terminated, (bool, np.bool8)):\n",
      "/Users/aaron/Projects/bettermdptools/bettermdptools/algorithms/rl.py:179: UserWarning: Episode was truncated.  Bootstrapping 0 reward.\n",
      "  warnings.warn(\"Episode was truncated.  Bootstrapping 0 reward.\")\n",
      "                                                      \r"
     ]
    },
    {
     "name": "stdout",
     "output_type": "stream",
     "text": [
      "runtime = 5.00 seconds\n"
     ]
    },
    {
     "name": "stderr",
     "output_type": "stream",
     "text": [
      "                                                      \r"
     ]
    },
    {
     "name": "stdout",
     "output_type": "stream",
     "text": [
      "runtime = 6.46 seconds\n"
     ]
    },
    {
     "name": "stderr",
     "output_type": "stream",
     "text": [
      "                                                      \r"
     ]
    },
    {
     "name": "stdout",
     "output_type": "stream",
     "text": [
      "runtime = 6.62 seconds\n"
     ]
    },
    {
     "name": "stderr",
     "output_type": "stream",
     "text": [
      "                                                      \r"
     ]
    },
    {
     "name": "stdout",
     "output_type": "stream",
     "text": [
      "runtime = 6.47 seconds\n"
     ]
    },
    {
     "name": "stderr",
     "output_type": "stream",
     "text": [
      "                                                      \r"
     ]
    },
    {
     "name": "stdout",
     "output_type": "stream",
     "text": [
      "runtime = 6.34 seconds\n"
     ]
    },
    {
     "name": "stderr",
     "output_type": "stream",
     "text": [
      "                                                      \r"
     ]
    },
    {
     "name": "stdout",
     "output_type": "stream",
     "text": [
      "runtime = 6.40 seconds\n"
     ]
    },
    {
     "name": "stderr",
     "output_type": "stream",
     "text": [
      "                                                      \r"
     ]
    },
    {
     "name": "stdout",
     "output_type": "stream",
     "text": [
      "runtime = 6.43 seconds\n"
     ]
    },
    {
     "name": "stderr",
     "output_type": "stream",
     "text": [
      "                                                      \r"
     ]
    },
    {
     "name": "stdout",
     "output_type": "stream",
     "text": [
      "runtime = 4.96 seconds\n"
     ]
    },
    {
     "name": "stderr",
     "output_type": "stream",
     "text": [
      "                                                      \r"
     ]
    },
    {
     "name": "stdout",
     "output_type": "stream",
     "text": [
      "runtime = 6.34 seconds\n"
     ]
    },
    {
     "name": "stderr",
     "output_type": "stream",
     "text": [
      "                                                      \r"
     ]
    },
    {
     "name": "stdout",
     "output_type": "stream",
     "text": [
      "runtime = 6.32 seconds\n"
     ]
    },
    {
     "name": "stderr",
     "output_type": "stream",
     "text": [
      "                                                      \r"
     ]
    },
    {
     "name": "stdout",
     "output_type": "stream",
     "text": [
      "runtime = 5.09 seconds\n"
     ]
    },
    {
     "name": "stderr",
     "output_type": "stream",
     "text": [
      "                                                      \r"
     ]
    },
    {
     "name": "stdout",
     "output_type": "stream",
     "text": [
      "runtime = 6.36 seconds\n"
     ]
    },
    {
     "name": "stderr",
     "output_type": "stream",
     "text": [
      "                                                      \r"
     ]
    },
    {
     "name": "stdout",
     "output_type": "stream",
     "text": [
      "runtime = 6.28 seconds\n"
     ]
    },
    {
     "name": "stderr",
     "output_type": "stream",
     "text": [
      "                                                      \r"
     ]
    },
    {
     "name": "stdout",
     "output_type": "stream",
     "text": [
      "runtime = 6.26 seconds\n"
     ]
    },
    {
     "name": "stderr",
     "output_type": "stream",
     "text": [
      "                                                      \r"
     ]
    },
    {
     "name": "stdout",
     "output_type": "stream",
     "text": [
      "runtime = 6.33 seconds\n"
     ]
    },
    {
     "name": "stderr",
     "output_type": "stream",
     "text": [
      "                                                      \r"
     ]
    },
    {
     "name": "stdout",
     "output_type": "stream",
     "text": [
      "runtime = 6.30 seconds\n"
     ]
    },
    {
     "name": "stderr",
     "output_type": "stream",
     "text": [
      "                                                      \r"
     ]
    },
    {
     "name": "stdout",
     "output_type": "stream",
     "text": [
      "runtime = 6.36 seconds\n"
     ]
    },
    {
     "name": "stderr",
     "output_type": "stream",
     "text": [
      "                                                      \r"
     ]
    },
    {
     "name": "stdout",
     "output_type": "stream",
     "text": [
      "runtime = 6.30 seconds\n"
     ]
    },
    {
     "name": "stderr",
     "output_type": "stream",
     "text": [
      "                                                      \r"
     ]
    },
    {
     "name": "stdout",
     "output_type": "stream",
     "text": [
      "runtime = 6.22 seconds\n"
     ]
    },
    {
     "name": "stderr",
     "output_type": "stream",
     "text": [
      "                                                      \r"
     ]
    },
    {
     "name": "stdout",
     "output_type": "stream",
     "text": [
      "runtime = 4.99 seconds\n",
      "FrozenLake8x8-v1 baseline Average reward: 0.84 +/- 0.0\n",
      "FrozenLake8x8-v1 baseline Average iterations to converge: 1.0 +/- 0.0\n",
      "FrozenLake8x8-v1 baseline Average runtime: 4.9939 +/- 0.0 seconds\n"
     ]
    },
    {
     "name": "stderr",
     "output_type": "stream",
     "text": [
      "                                                      \r"
     ]
    },
    {
     "name": "stdout",
     "output_type": "stream",
     "text": [
      "runtime = 4.84 seconds\n"
     ]
    },
    {
     "name": "stderr",
     "output_type": "stream",
     "text": [
      "                                                      \r"
     ]
    },
    {
     "name": "stdout",
     "output_type": "stream",
     "text": [
      "runtime = 8.42 seconds\n"
     ]
    },
    {
     "name": "stderr",
     "output_type": "stream",
     "text": [
      "                                                      \r"
     ]
    },
    {
     "name": "stdout",
     "output_type": "stream",
     "text": [
      "runtime = 8.41 seconds\n"
     ]
    },
    {
     "name": "stderr",
     "output_type": "stream",
     "text": [
      "                                                      \r"
     ]
    },
    {
     "name": "stdout",
     "output_type": "stream",
     "text": [
      "runtime = 8.27 seconds\n"
     ]
    },
    {
     "name": "stderr",
     "output_type": "stream",
     "text": [
      "                                                      \r"
     ]
    },
    {
     "name": "stdout",
     "output_type": "stream",
     "text": [
      "runtime = 8.31 seconds\n"
     ]
    },
    {
     "name": "stderr",
     "output_type": "stream",
     "text": [
      "                                                      \r"
     ]
    },
    {
     "name": "stdout",
     "output_type": "stream",
     "text": [
      "runtime = 8.43 seconds\n"
     ]
    },
    {
     "name": "stderr",
     "output_type": "stream",
     "text": [
      "                                                      \r"
     ]
    },
    {
     "name": "stdout",
     "output_type": "stream",
     "text": [
      "runtime = 8.29 seconds\n"
     ]
    },
    {
     "name": "stderr",
     "output_type": "stream",
     "text": [
      "                                                      \r"
     ]
    },
    {
     "name": "stdout",
     "output_type": "stream",
     "text": [
      "runtime = 8.37 seconds\n"
     ]
    },
    {
     "name": "stderr",
     "output_type": "stream",
     "text": [
      "                                                      \r"
     ]
    },
    {
     "name": "stdout",
     "output_type": "stream",
     "text": [
      "runtime = 4.77 seconds\n"
     ]
    },
    {
     "name": "stderr",
     "output_type": "stream",
     "text": [
      "                                                      \r"
     ]
    },
    {
     "name": "stdout",
     "output_type": "stream",
     "text": [
      "runtime = 8.47 seconds\n"
     ]
    },
    {
     "name": "stderr",
     "output_type": "stream",
     "text": [
      "                                                      \r"
     ]
    },
    {
     "name": "stdout",
     "output_type": "stream",
     "text": [
      "runtime = 8.33 seconds\n"
     ]
    },
    {
     "name": "stderr",
     "output_type": "stream",
     "text": [
      "                                                      \r"
     ]
    },
    {
     "name": "stdout",
     "output_type": "stream",
     "text": [
      "runtime = 8.36 seconds\n"
     ]
    },
    {
     "name": "stderr",
     "output_type": "stream",
     "text": [
      "                                                      \r"
     ]
    },
    {
     "name": "stdout",
     "output_type": "stream",
     "text": [
      "runtime = 8.41 seconds\n"
     ]
    },
    {
     "name": "stderr",
     "output_type": "stream",
     "text": [
      "                                                      \r"
     ]
    },
    {
     "name": "stdout",
     "output_type": "stream",
     "text": [
      "runtime = 8.19 seconds\n"
     ]
    },
    {
     "name": "stderr",
     "output_type": "stream",
     "text": [
      "                                                      \r"
     ]
    },
    {
     "name": "stdout",
     "output_type": "stream",
     "text": [
      "runtime = 8.16 seconds\n"
     ]
    },
    {
     "name": "stderr",
     "output_type": "stream",
     "text": [
      "                                                      \r"
     ]
    },
    {
     "name": "stdout",
     "output_type": "stream",
     "text": [
      "runtime = 8.21 seconds\n"
     ]
    },
    {
     "name": "stderr",
     "output_type": "stream",
     "text": [
      "                                                      \r"
     ]
    },
    {
     "name": "stdout",
     "output_type": "stream",
     "text": [
      "runtime = 8.16 seconds\n"
     ]
    },
    {
     "name": "stderr",
     "output_type": "stream",
     "text": [
      "                                                      \r"
     ]
    },
    {
     "name": "stdout",
     "output_type": "stream",
     "text": [
      "runtime = 8.18 seconds\n"
     ]
    },
    {
     "name": "stderr",
     "output_type": "stream",
     "text": [
      "                                                      \r"
     ]
    },
    {
     "name": "stdout",
     "output_type": "stream",
     "text": [
      "runtime = 8.18 seconds\n"
     ]
    },
    {
     "name": "stderr",
     "output_type": "stream",
     "text": [
      "                                                      \r"
     ]
    },
    {
     "name": "stdout",
     "output_type": "stream",
     "text": [
      "runtime = 8.24 seconds\n",
      "FrozenLake8x8-v1 optimized Average reward: 0.0 +/- 0.0\n",
      "FrozenLake8x8-v1 optimized Average iterations to converge: 1.0 +/- 0.0\n",
      "FrozenLake8x8-v1 optimized Average runtime: 8.2429 +/- 0.0 seconds\n",
      "FrozenLake8x8-v1 epsilon_greedy Average reward: 0.0 +/- 0.0\n",
      "FrozenLake8x8-v1 epsilon_greedy Average iterations to converge: 1.0 +/- 0.0\n",
      "FrozenLake8x8-v1 epsilon_greedy Average runtime: 11.9759 +/- 0.0 seconds\n",
      "FrozenLake8x8-v1 softmax Average reward: 0.85 +/- 0.0\n",
      "FrozenLake8x8-v1 softmax Average iterations to converge: 1.0 +/- 0.0\n",
      "FrozenLake8x8-v1 softmax Average runtime: 16.3602 +/- 0.0 seconds\n"
     ]
    },
    {
     "name": "stderr",
     "output_type": "stream",
     "text": [
      "  0%|          | 0/10000 [00:00<?, ?it/s]/Users/aaron/Projects/bettermdptools/bettermdptools/lib/python3.11/site-packages/gymnasium/utils/passive_env_checker.py:233: DeprecationWarning: `np.bool8` is a deprecated alias for `np.bool_`.  (Deprecated NumPy 1.24)\n",
      "  if not isinstance(terminated, (bool, np.bool8)):\n",
      "  8%|▊         | 827/10000 [00:00<00:02, 3639.49it/s]/Users/aaron/Projects/bettermdptools/bettermdptools/algorithms/rl.py:179: UserWarning: Episode was truncated.  Bootstrapping 0 reward.\n",
      "  warnings.warn(\"Episode was truncated.  Bootstrapping 0 reward.\")\n",
      "                                                      \r"
     ]
    },
    {
     "name": "stdout",
     "output_type": "stream",
     "text": [
      "runtime = 5.11 seconds\n"
     ]
    },
    {
     "name": "stderr",
     "output_type": "stream",
     "text": [
      "                                                      \r"
     ]
    },
    {
     "name": "stdout",
     "output_type": "stream",
     "text": [
      "runtime = 5.11 seconds\n"
     ]
    },
    {
     "name": "stderr",
     "output_type": "stream",
     "text": [
      "                                                      \r"
     ]
    },
    {
     "name": "stdout",
     "output_type": "stream",
     "text": [
      "runtime = 4.87 seconds\n"
     ]
    },
    {
     "name": "stderr",
     "output_type": "stream",
     "text": [
      "                                                      \r"
     ]
    },
    {
     "name": "stdout",
     "output_type": "stream",
     "text": [
      "runtime = 4.91 seconds\n"
     ]
    },
    {
     "name": "stderr",
     "output_type": "stream",
     "text": [
      "                                                      \r"
     ]
    },
    {
     "name": "stdout",
     "output_type": "stream",
     "text": [
      "runtime = 4.88 seconds\n"
     ]
    },
    {
     "name": "stderr",
     "output_type": "stream",
     "text": [
      "                                                      \r"
     ]
    },
    {
     "name": "stdout",
     "output_type": "stream",
     "text": [
      "runtime = 4.98 seconds\n"
     ]
    },
    {
     "name": "stderr",
     "output_type": "stream",
     "text": [
      "                                                      \r"
     ]
    },
    {
     "name": "stdout",
     "output_type": "stream",
     "text": [
      "runtime = 5.01 seconds\n"
     ]
    },
    {
     "name": "stderr",
     "output_type": "stream",
     "text": [
      "                                                      \r"
     ]
    },
    {
     "name": "stdout",
     "output_type": "stream",
     "text": [
      "runtime = 5.02 seconds\n"
     ]
    },
    {
     "name": "stderr",
     "output_type": "stream",
     "text": [
      "                                                      \r"
     ]
    },
    {
     "name": "stdout",
     "output_type": "stream",
     "text": [
      "runtime = 5.00 seconds\n"
     ]
    },
    {
     "name": "stderr",
     "output_type": "stream",
     "text": [
      "                                                      \r"
     ]
    },
    {
     "name": "stdout",
     "output_type": "stream",
     "text": [
      "runtime = 5.00 seconds\n"
     ]
    },
    {
     "name": "stderr",
     "output_type": "stream",
     "text": [
      "                                                      \r"
     ]
    },
    {
     "name": "stdout",
     "output_type": "stream",
     "text": [
      "runtime = 4.89 seconds\n"
     ]
    },
    {
     "name": "stderr",
     "output_type": "stream",
     "text": [
      "                                                      \r"
     ]
    },
    {
     "name": "stdout",
     "output_type": "stream",
     "text": [
      "runtime = 5.04 seconds\n"
     ]
    },
    {
     "name": "stderr",
     "output_type": "stream",
     "text": [
      "                                                      \r"
     ]
    },
    {
     "name": "stdout",
     "output_type": "stream",
     "text": [
      "runtime = 4.95 seconds\n"
     ]
    },
    {
     "name": "stderr",
     "output_type": "stream",
     "text": [
      "                                                      \r"
     ]
    },
    {
     "name": "stdout",
     "output_type": "stream",
     "text": [
      "runtime = 5.00 seconds\n"
     ]
    },
    {
     "name": "stderr",
     "output_type": "stream",
     "text": [
      "                                                      \r"
     ]
    },
    {
     "name": "stdout",
     "output_type": "stream",
     "text": [
      "runtime = 4.92 seconds\n"
     ]
    },
    {
     "name": "stderr",
     "output_type": "stream",
     "text": [
      "                                                      \r"
     ]
    },
    {
     "name": "stdout",
     "output_type": "stream",
     "text": [
      "runtime = 5.05 seconds\n"
     ]
    },
    {
     "name": "stderr",
     "output_type": "stream",
     "text": [
      "                                                      \r"
     ]
    },
    {
     "name": "stdout",
     "output_type": "stream",
     "text": [
      "runtime = 4.90 seconds\n"
     ]
    },
    {
     "name": "stderr",
     "output_type": "stream",
     "text": [
      "                                                      \r"
     ]
    },
    {
     "name": "stdout",
     "output_type": "stream",
     "text": [
      "runtime = 4.99 seconds\n"
     ]
    },
    {
     "name": "stderr",
     "output_type": "stream",
     "text": [
      "                                                      \r"
     ]
    },
    {
     "name": "stdout",
     "output_type": "stream",
     "text": [
      "runtime = 4.91 seconds\n"
     ]
    },
    {
     "name": "stderr",
     "output_type": "stream",
     "text": [
      "                                                      \r"
     ]
    },
    {
     "name": "stdout",
     "output_type": "stream",
     "text": [
      "runtime = 4.86 seconds\n",
      "FrozenLake16x16-v1 baseline Average reward: 0.0 +/- 0.0\n",
      "FrozenLake16x16-v1 baseline Average iterations to converge: 1.0 +/- 0.0\n",
      "FrozenLake16x16-v1 baseline Average runtime: 4.8582 +/- 0.0 seconds\n"
     ]
    },
    {
     "name": "stderr",
     "output_type": "stream",
     "text": [
      "                                                      \r"
     ]
    },
    {
     "name": "stdout",
     "output_type": "stream",
     "text": [
      "runtime = 5.94 seconds\n"
     ]
    },
    {
     "name": "stderr",
     "output_type": "stream",
     "text": [
      "                                                      \r"
     ]
    },
    {
     "name": "stdout",
     "output_type": "stream",
     "text": [
      "runtime = 5.88 seconds\n"
     ]
    },
    {
     "name": "stderr",
     "output_type": "stream",
     "text": [
      "                                                      \r"
     ]
    },
    {
     "name": "stdout",
     "output_type": "stream",
     "text": [
      "runtime = 5.82 seconds\n"
     ]
    },
    {
     "name": "stderr",
     "output_type": "stream",
     "text": [
      "                                                      \r"
     ]
    },
    {
     "name": "stdout",
     "output_type": "stream",
     "text": [
      "runtime = 5.99 seconds\n"
     ]
    },
    {
     "name": "stderr",
     "output_type": "stream",
     "text": [
      "                                                      \r"
     ]
    },
    {
     "name": "stdout",
     "output_type": "stream",
     "text": [
      "runtime = 5.75 seconds\n"
     ]
    },
    {
     "name": "stderr",
     "output_type": "stream",
     "text": [
      "                                                      \r"
     ]
    },
    {
     "name": "stdout",
     "output_type": "stream",
     "text": [
      "runtime = 5.90 seconds\n"
     ]
    },
    {
     "name": "stderr",
     "output_type": "stream",
     "text": [
      "                                                      \r"
     ]
    },
    {
     "name": "stdout",
     "output_type": "stream",
     "text": [
      "runtime = 5.88 seconds\n"
     ]
    },
    {
     "name": "stderr",
     "output_type": "stream",
     "text": [
      "                                                      \r"
     ]
    },
    {
     "name": "stdout",
     "output_type": "stream",
     "text": [
      "runtime = 5.96 seconds\n"
     ]
    },
    {
     "name": "stderr",
     "output_type": "stream",
     "text": [
      "                                                      \r"
     ]
    },
    {
     "name": "stdout",
     "output_type": "stream",
     "text": [
      "runtime = 5.73 seconds\n"
     ]
    },
    {
     "name": "stderr",
     "output_type": "stream",
     "text": [
      "                                                      \r"
     ]
    },
    {
     "name": "stdout",
     "output_type": "stream",
     "text": [
      "runtime = 5.85 seconds\n"
     ]
    },
    {
     "name": "stderr",
     "output_type": "stream",
     "text": [
      "                                                      \r"
     ]
    },
    {
     "name": "stdout",
     "output_type": "stream",
     "text": [
      "runtime = 5.97 seconds\n"
     ]
    },
    {
     "name": "stderr",
     "output_type": "stream",
     "text": [
      "                                                      \r"
     ]
    },
    {
     "name": "stdout",
     "output_type": "stream",
     "text": [
      "runtime = 5.96 seconds\n"
     ]
    },
    {
     "name": "stderr",
     "output_type": "stream",
     "text": [
      "                                                      \r"
     ]
    },
    {
     "name": "stdout",
     "output_type": "stream",
     "text": [
      "runtime = 5.77 seconds\n"
     ]
    },
    {
     "name": "stderr",
     "output_type": "stream",
     "text": [
      "                                                      \r"
     ]
    },
    {
     "name": "stdout",
     "output_type": "stream",
     "text": [
      "runtime = 5.79 seconds\n"
     ]
    },
    {
     "name": "stderr",
     "output_type": "stream",
     "text": [
      "                                                      \r"
     ]
    },
    {
     "name": "stdout",
     "output_type": "stream",
     "text": [
      "runtime = 5.91 seconds\n"
     ]
    },
    {
     "name": "stderr",
     "output_type": "stream",
     "text": [
      "                                                      \r"
     ]
    },
    {
     "name": "stdout",
     "output_type": "stream",
     "text": [
      "runtime = 5.94 seconds\n"
     ]
    },
    {
     "name": "stderr",
     "output_type": "stream",
     "text": [
      "                                                      \r"
     ]
    },
    {
     "name": "stdout",
     "output_type": "stream",
     "text": [
      "runtime = 5.93 seconds\n"
     ]
    },
    {
     "name": "stderr",
     "output_type": "stream",
     "text": [
      "                                                      \r"
     ]
    },
    {
     "name": "stdout",
     "output_type": "stream",
     "text": [
      "runtime = 5.92 seconds\n"
     ]
    },
    {
     "name": "stderr",
     "output_type": "stream",
     "text": [
      "                                                      \r"
     ]
    },
    {
     "name": "stdout",
     "output_type": "stream",
     "text": [
      "runtime = 5.83 seconds\n"
     ]
    },
    {
     "name": "stderr",
     "output_type": "stream",
     "text": [
      "                                                      \r"
     ]
    },
    {
     "name": "stdout",
     "output_type": "stream",
     "text": [
      "runtime = 5.87 seconds\n",
      "FrozenLake16x16-v1 optimized Average reward: 0.0 +/- 0.0\n",
      "FrozenLake16x16-v1 optimized Average iterations to converge: 1.0 +/- 0.0\n",
      "FrozenLake16x16-v1 optimized Average runtime: 5.8705 +/- 0.0 seconds\n",
      "FrozenLake16x16-v1 epsilon_greedy Average reward: 0.0 +/- 0.0\n",
      "FrozenLake16x16-v1 epsilon_greedy Average iterations to converge: 1.0 +/- 0.0\n",
      "FrozenLake16x16-v1 epsilon_greedy Average runtime: 5.9298 +/- 0.0 seconds\n",
      "FrozenLake16x16-v1 softmax Average reward: 0.0 +/- 0.0\n",
      "FrozenLake16x16-v1 softmax Average iterations to converge: 1.0 +/- 0.0\n",
      "FrozenLake16x16-v1 softmax Average runtime: 5.4023 +/- 0.0 seconds\n"
     ]
    },
    {
     "name": "stderr",
     "output_type": "stream",
     "text": [
      "  0%|          | 0/10000 [00:00<?, ?it/s]/Users/aaron/Projects/bettermdptools/bettermdptools/lib/python3.11/site-packages/gymnasium/utils/passive_env_checker.py:233: DeprecationWarning: `np.bool8` is a deprecated alias for `np.bool_`.  (Deprecated NumPy 1.24)\n",
      "  if not isinstance(terminated, (bool, np.bool8)):\n",
      "                                                       \r"
     ]
    },
    {
     "name": "stdout",
     "output_type": "stream",
     "text": [
      "runtime = 0.48 seconds\n"
     ]
    },
    {
     "name": "stderr",
     "output_type": "stream",
     "text": [
      "                                                       \r"
     ]
    },
    {
     "name": "stdout",
     "output_type": "stream",
     "text": [
      "runtime = 0.48 seconds\n"
     ]
    },
    {
     "name": "stderr",
     "output_type": "stream",
     "text": [
      "                                                       \r"
     ]
    },
    {
     "name": "stdout",
     "output_type": "stream",
     "text": [
      "runtime = 0.47 seconds\n"
     ]
    },
    {
     "name": "stderr",
     "output_type": "stream",
     "text": [
      "                                                       \r"
     ]
    },
    {
     "name": "stdout",
     "output_type": "stream",
     "text": [
      "runtime = 0.48 seconds\n"
     ]
    },
    {
     "name": "stderr",
     "output_type": "stream",
     "text": [
      "                                                       \r"
     ]
    },
    {
     "name": "stdout",
     "output_type": "stream",
     "text": [
      "runtime = 0.47 seconds\n"
     ]
    },
    {
     "name": "stderr",
     "output_type": "stream",
     "text": [
      "                                                       \r"
     ]
    },
    {
     "name": "stdout",
     "output_type": "stream",
     "text": [
      "runtime = 0.51 seconds\n"
     ]
    },
    {
     "name": "stderr",
     "output_type": "stream",
     "text": [
      "                                                       \r"
     ]
    },
    {
     "name": "stdout",
     "output_type": "stream",
     "text": [
      "runtime = 0.47 seconds\n"
     ]
    },
    {
     "name": "stderr",
     "output_type": "stream",
     "text": [
      "                                                       \r"
     ]
    },
    {
     "name": "stdout",
     "output_type": "stream",
     "text": [
      "runtime = 0.48 seconds\n"
     ]
    },
    {
     "name": "stderr",
     "output_type": "stream",
     "text": [
      "                                                       \r"
     ]
    },
    {
     "name": "stdout",
     "output_type": "stream",
     "text": [
      "runtime = 0.49 seconds\n"
     ]
    },
    {
     "name": "stderr",
     "output_type": "stream",
     "text": [
      "                                                       \r"
     ]
    },
    {
     "name": "stdout",
     "output_type": "stream",
     "text": [
      "runtime = 0.47 seconds\n"
     ]
    },
    {
     "name": "stderr",
     "output_type": "stream",
     "text": [
      "                                                       \r"
     ]
    },
    {
     "name": "stdout",
     "output_type": "stream",
     "text": [
      "runtime = 0.48 seconds\n"
     ]
    },
    {
     "name": "stderr",
     "output_type": "stream",
     "text": [
      "                                                       \r"
     ]
    },
    {
     "name": "stdout",
     "output_type": "stream",
     "text": [
      "runtime = 0.48 seconds\n"
     ]
    },
    {
     "name": "stderr",
     "output_type": "stream",
     "text": [
      "                                                       \r"
     ]
    },
    {
     "name": "stdout",
     "output_type": "stream",
     "text": [
      "runtime = 0.47 seconds\n"
     ]
    },
    {
     "name": "stderr",
     "output_type": "stream",
     "text": [
      "                                                       \r"
     ]
    },
    {
     "name": "stdout",
     "output_type": "stream",
     "text": [
      "runtime = 0.49 seconds\n"
     ]
    },
    {
     "name": "stderr",
     "output_type": "stream",
     "text": [
      "                                                       \r"
     ]
    },
    {
     "name": "stdout",
     "output_type": "stream",
     "text": [
      "runtime = 0.47 seconds\n"
     ]
    },
    {
     "name": "stderr",
     "output_type": "stream",
     "text": [
      "                                                       \r"
     ]
    },
    {
     "name": "stdout",
     "output_type": "stream",
     "text": [
      "runtime = 0.47 seconds\n"
     ]
    },
    {
     "name": "stderr",
     "output_type": "stream",
     "text": [
      "                                                       \r"
     ]
    },
    {
     "name": "stdout",
     "output_type": "stream",
     "text": [
      "runtime = 0.47 seconds\n"
     ]
    },
    {
     "name": "stderr",
     "output_type": "stream",
     "text": [
      "                                                       \r"
     ]
    },
    {
     "name": "stdout",
     "output_type": "stream",
     "text": [
      "runtime = 0.47 seconds\n"
     ]
    },
    {
     "name": "stderr",
     "output_type": "stream",
     "text": [
      "                                                       \r"
     ]
    },
    {
     "name": "stdout",
     "output_type": "stream",
     "text": [
      "runtime = 0.48 seconds\n"
     ]
    },
    {
     "name": "stderr",
     "output_type": "stream",
     "text": [
      "                                                       \r"
     ]
    },
    {
     "name": "stdout",
     "output_type": "stream",
     "text": [
      "runtime = 0.47 seconds\n",
      "Blackjack-v1 baseline Average reward: -0.15 +/- 0.0\n",
      "Blackjack-v1 baseline Average iterations to converge: 2.0 +/- 0.0\n",
      "Blackjack-v1 baseline Average runtime: 0.4681 +/- 0.0 seconds\n"
     ]
    },
    {
     "name": "stderr",
     "output_type": "stream",
     "text": [
      "                                                       \r"
     ]
    },
    {
     "name": "stdout",
     "output_type": "stream",
     "text": [
      "runtime = 0.48 seconds\n"
     ]
    },
    {
     "name": "stderr",
     "output_type": "stream",
     "text": [
      "                                                       \r"
     ]
    },
    {
     "name": "stdout",
     "output_type": "stream",
     "text": [
      "runtime = 0.48 seconds\n"
     ]
    },
    {
     "name": "stderr",
     "output_type": "stream",
     "text": [
      "                                                       \r"
     ]
    },
    {
     "name": "stdout",
     "output_type": "stream",
     "text": [
      "runtime = 0.48 seconds\n"
     ]
    },
    {
     "name": "stderr",
     "output_type": "stream",
     "text": [
      "                                                       \r"
     ]
    },
    {
     "name": "stdout",
     "output_type": "stream",
     "text": [
      "runtime = 0.53 seconds\n"
     ]
    },
    {
     "name": "stderr",
     "output_type": "stream",
     "text": [
      "                                                       \r"
     ]
    },
    {
     "name": "stdout",
     "output_type": "stream",
     "text": [
      "runtime = 0.48 seconds\n"
     ]
    },
    {
     "name": "stderr",
     "output_type": "stream",
     "text": [
      "                                                       \r"
     ]
    },
    {
     "name": "stdout",
     "output_type": "stream",
     "text": [
      "runtime = 0.48 seconds\n"
     ]
    },
    {
     "name": "stderr",
     "output_type": "stream",
     "text": [
      "                                                       \r"
     ]
    },
    {
     "name": "stdout",
     "output_type": "stream",
     "text": [
      "runtime = 0.48 seconds\n"
     ]
    },
    {
     "name": "stderr",
     "output_type": "stream",
     "text": [
      "                                                       \r"
     ]
    },
    {
     "name": "stdout",
     "output_type": "stream",
     "text": [
      "runtime = 0.49 seconds\n"
     ]
    },
    {
     "name": "stderr",
     "output_type": "stream",
     "text": [
      "                                                       \r"
     ]
    },
    {
     "name": "stdout",
     "output_type": "stream",
     "text": [
      "runtime = 0.47 seconds\n"
     ]
    },
    {
     "name": "stderr",
     "output_type": "stream",
     "text": [
      "                                                       \r"
     ]
    },
    {
     "name": "stdout",
     "output_type": "stream",
     "text": [
      "runtime = 0.48 seconds\n"
     ]
    },
    {
     "name": "stderr",
     "output_type": "stream",
     "text": [
      "                                                       \r"
     ]
    },
    {
     "name": "stdout",
     "output_type": "stream",
     "text": [
      "runtime = 0.47 seconds\n"
     ]
    },
    {
     "name": "stderr",
     "output_type": "stream",
     "text": [
      "                                                       \r"
     ]
    },
    {
     "name": "stdout",
     "output_type": "stream",
     "text": [
      "runtime = 0.48 seconds\n"
     ]
    },
    {
     "name": "stderr",
     "output_type": "stream",
     "text": [
      "                                                       \r"
     ]
    },
    {
     "name": "stdout",
     "output_type": "stream",
     "text": [
      "runtime = 0.49 seconds\n"
     ]
    },
    {
     "name": "stderr",
     "output_type": "stream",
     "text": [
      "                                                       \r"
     ]
    },
    {
     "name": "stdout",
     "output_type": "stream",
     "text": [
      "runtime = 0.47 seconds\n"
     ]
    },
    {
     "name": "stderr",
     "output_type": "stream",
     "text": [
      "                                                       \r"
     ]
    },
    {
     "name": "stdout",
     "output_type": "stream",
     "text": [
      "runtime = 0.48 seconds\n"
     ]
    },
    {
     "name": "stderr",
     "output_type": "stream",
     "text": [
      "                                                       \r"
     ]
    },
    {
     "name": "stdout",
     "output_type": "stream",
     "text": [
      "runtime = 0.48 seconds\n"
     ]
    },
    {
     "name": "stderr",
     "output_type": "stream",
     "text": [
      "                                                       \r"
     ]
    },
    {
     "name": "stdout",
     "output_type": "stream",
     "text": [
      "runtime = 0.50 seconds\n"
     ]
    },
    {
     "name": "stderr",
     "output_type": "stream",
     "text": [
      "                                                       \r"
     ]
    },
    {
     "name": "stdout",
     "output_type": "stream",
     "text": [
      "runtime = 0.48 seconds\n"
     ]
    },
    {
     "name": "stderr",
     "output_type": "stream",
     "text": [
      "                                                       \r"
     ]
    },
    {
     "name": "stdout",
     "output_type": "stream",
     "text": [
      "runtime = 0.50 seconds\n"
     ]
    },
    {
     "name": "stderr",
     "output_type": "stream",
     "text": [
      "                                                       \r"
     ]
    },
    {
     "name": "stdout",
     "output_type": "stream",
     "text": [
      "runtime = 0.68 seconds\n",
      "Blackjack-v1 optimized Average reward: -0.11 +/- 0.0\n",
      "Blackjack-v1 optimized Average iterations to converge: 72.0 +/- 0.0\n",
      "Blackjack-v1 optimized Average runtime: 0.6835 +/- 0.0 seconds\n",
      "Blackjack-v1 epsilon_greedy Average reward: -0.21 +/- 0.0\n",
      "Blackjack-v1 epsilon_greedy Average iterations to converge: 127.0 +/- 0.0\n",
      "Blackjack-v1 epsilon_greedy Average runtime: 0.4636 +/- 0.0 seconds\n",
      "Blackjack-v1 softmax Average reward: -0.16 +/- 0.0\n",
      "Blackjack-v1 softmax Average iterations to converge: 11.0 +/- 0.0\n",
      "Blackjack-v1 softmax Average runtime: 0.6832 +/- 0.0 seconds\n"
     ]
    }
   ],
   "source": [
    "import time\n",
    "\n",
    "import numpy as np\n",
    "import pandas as pd\n",
    "import gymnasium as gym\n",
    "from bettermdptools.utils.blackjack_wrapper import BlackjackWrapper\n",
    "from bettermdptools.algorithms.rl import RL\n",
    "from bettermdptools.utils.test_env import TestEnv\n",
    "\n",
    "from grid_search2 import set_seed, check_ql_convergence\n",
    "\n",
    "N_ITERATIONS = 10000\n",
    "SEED = 666\n",
    "CV_JOBS = 20\n",
    "\n",
    "\n",
    "class RL2:\n",
    "    def __init__(self, env):\n",
    "        self.env = env\n",
    "\n",
    "    def q_learning(\n",
    "        self, num_episodes=1000, strategy=\"epsilon_greedy\", strategy_params=None\n",
    "    ):\n",
    "        Q = np.zeros((self.env.observation_space.n, self.env.action_space.n))\n",
    "        alpha = 0.5\n",
    "        gamma = 0.99\n",
    "\n",
    "        # Initialize Q_track and pi_track to log the progress\n",
    "        Q_track = np.zeros(\n",
    "            (num_episodes, self.env.observation_space.n, self.env.action_space.n)\n",
    "        )\n",
    "        pi_track = []\n",
    "\n",
    "        for i in range(num_episodes):\n",
    "            initial_state_info = self.env.reset()\n",
    "            state = self.extract_state(initial_state_info)\n",
    "            done = False\n",
    "\n",
    "            while not done:\n",
    "                action = self.select_action(state, Q, strategy, strategy_params, i)\n",
    "                next_state_info, reward, terminated, truncated, _ = self.env.step(\n",
    "                    action\n",
    "                )\n",
    "                next_state = self.extract_state(\n",
    "                    next_state_info\n",
    "                )  # Extract correct next state\n",
    "                done = terminated or truncated\n",
    "\n",
    "                # Q-learning update\n",
    "                best_next_action = np.argmax(Q[next_state])\n",
    "                Q[state][action] += alpha * (\n",
    "                    reward + gamma * Q[next_state][best_next_action] - Q[state][action]\n",
    "                )\n",
    "                state = next_state  # Update state for the next iteration\n",
    "\n",
    "            # Log the Q-values and policy after each episode\n",
    "            Q_track[i] = Q.copy()\n",
    "            pi_track.append(np.argmax(Q, axis=1))\n",
    "\n",
    "        pi = np.argmax(Q, axis=1)\n",
    "        V = np.max(Q, axis=1)\n",
    "        return Q, V, pi, Q_track, pi_track\n",
    "\n",
    "    def extract_state(self, state_info):\n",
    "        if isinstance(state_info, tuple) and isinstance(state_info[0], int):\n",
    "            return state_info[0]\n",
    "        return state_info\n",
    "\n",
    "    # def select_action(self, state, Q, strategy, strategy_params, episode):\n",
    "    #     if strategy == \"epsilon_greedy\":\n",
    "    #         epsilon = strategy_params[\"initial_epsilon\"] * (\n",
    "    #             strategy_params[\"decay\"] ** episode\n",
    "    #         )\n",
    "    #         if np.random.rand() < epsilon:\n",
    "    #             return self.env.action_space.sample()\n",
    "    #         else:\n",
    "    #             return np.argmax(Q[state])\n",
    "    #     elif strategy == \"softmax\":\n",
    "    #         tau = strategy_params[\"initial_tau\"] / (\n",
    "    #             1 + episode * strategy_params[\"tau_decay\"]\n",
    "    #         )\n",
    "    #         exp_q = np.exp(Q[state] / tau)\n",
    "    #         probabilities = exp_q / np.sum(exp_q)\n",
    "    #         return np.random.choice(np.arange(len(Q[state])), p=probabilities)\n",
    "\n",
    "    def select_action(self, state, Q, strategy, strategy_params, episode):\n",
    "        if strategy == \"epsilon_greedy\":\n",
    "            epsilon = strategy_params[\"initial_epsilon\"] * (\n",
    "                strategy_params[\"decay\"] ** episode\n",
    "            )\n",
    "            if np.random.rand() < epsilon:\n",
    "                return self.env.action_space.sample()\n",
    "            else:\n",
    "                return np.argmax(Q[state])\n",
    "        elif strategy == \"softmax\":\n",
    "            tau = strategy_params[\"initial_tau\"] / (\n",
    "                1 + episode * strategy_params[\"tau_decay\"]\n",
    "            )\n",
    "            q_values = Q[state]\n",
    "\n",
    "            q_values_adjusted = q_values - np.max(q_values)\n",
    "            exp_q = np.exp(q_values_adjusted / tau)\n",
    "            sum_exp_q = np.sum(exp_q)\n",
    "            if sum_exp_q > 0:\n",
    "                probabilities = exp_q / sum_exp_q\n",
    "            else:\n",
    "                \n",
    "                probabilities = np.ones_like(exp_q) / len(exp_q)\n",
    "            return np.random.choice(np.arange(len(Q[state])), p=probabilities)\n",
    "\n",
    "\n",
    "if __name__ == \"__main__\":\n",
    "    strategy_params = {\n",
    "        \"initial_epsilon\": 0.9,\n",
    "        \"decay\": 0.99,\n",
    "        \"initial_tau\": 1.0,\n",
    "        \"tau_decay\": 0.01,\n",
    "    }\n",
    "\n",
    "    set_seed(SEED)\n",
    "\n",
    "    results = []\n",
    "    t_test_results = []\n",
    "\n",
    "    for env_name in [\"FrozenLake8x8-v1\", \"FrozenLake16x16-v1\", \"Blackjack-v1\"]:\n",
    "        # environment setup\n",
    "        if env_name == \"Blackjack-v1\":\n",
    "            base_env = gym.make(\"Blackjack-v1\", render_mode=None)\n",
    "            env = BlackjackWrapper(base_env)\n",
    "        else:\n",
    "            env = gym.make(env_name)\n",
    "\n",
    "        # Q-Learning setup\n",
    "        agent1 = RL(env)\n",
    "\n",
    "        # load best configuration\n",
    "        df = pd.read_csv(f\"results2/{env_name}/QL_grid_search_results.csv\")\n",
    "        df = df.sort_values(by=\"cumulative_score\", ascending=False)\n",
    "        best_config = df.to_dict(orient=\"records\")[0]\n",
    "        [\n",
    "            best_config.pop(col)\n",
    "            for col in (\"cumulative_score\", \"runtime\", \"iterations_to_converge\")\n",
    "        ]\n",
    "\n",
    "        # baseline and optimized performance\n",
    "        for strat in [\"baseline\", \"optimized\"]:\n",
    "            if strat == \"baseline\":\n",
    "                params = {\"n_episodes\": best_config.get(\"n_episodes\", N_ITERATIONS)}\n",
    "            else:\n",
    "                params = best_config.copy()\n",
    "\n",
    "            for _ in range(CV_JOBS):\n",
    "                start_time = time.time()\n",
    "                Q, V, pi, Q_track, pi_track = agent1.q_learning(**params)\n",
    "                runtime = time.time() - start_time\n",
    "\n",
    "                # Evaluate policy\n",
    "                episode_rewards = TestEnv.test_env(env=env, n_iters=100, pi=pi)\n",
    "                average_reward = np.mean(episode_rewards)\n",
    "\n",
    "                iteration_converged = check_ql_convergence(Q_track)\n",
    "\n",
    "                results.append(\n",
    "                    {\n",
    "                        \"environment\": env_name,\n",
    "                        \"strategy\": strat,\n",
    "                        \"average_reward\": average_reward,\n",
    "                        \"runtime\": runtime,\n",
    "                        \"iterations_to_converge\": iteration_converged,\n",
    "                    }\n",
    "                )\n",
    "\n",
    "            scores_mean = np.mean(average_reward)\n",
    "            scores_std = np.std(average_reward)\n",
    "            runtimes_mean = np.mean(runtime)\n",
    "            runtimes_std = np.std(runtime)\n",
    "            iterations_mean = np.mean(iteration_converged)\n",
    "            iterations_std = np.std(iteration_converged)\n",
    "\n",
    "            print(\n",
    "                f\"{env_name} {strat} Average reward: {np.round(scores_mean, 4)} +/- {np.round(scores_std, 4)}\"\n",
    "            )\n",
    "            print(\n",
    "                f\"{env_name} {strat} Average iterations to converge: {np.round(iterations_mean, 4)} +/- {np.round(iterations_std, 4)}\"\n",
    "            )\n",
    "            print(\n",
    "                f\"{env_name} {strat} Average runtime: {np.round(runtimes_mean, 4)} +/- {np.round(runtimes_std, 4)} seconds\"\n",
    "            )\n",
    "\n",
    "        # t-test baseline vs optimized scores\n",
    "        # t_stat, p_value = stats.ttest_rel(\n",
    "        #     results[env_name][\"baseline\"][\"scores\"],\n",
    "        #     results[env_name][\"optimized\"][\"scores\"],\n",
    "        # )\n",
    "        # isSignificant = p_value < 0.05\n",
    "        # print(\n",
    "        #     f\"{env_name} optimized t-statistic: {t_stat}, p-value: {p_value}, Significance: {isSignificant}\"\n",
    "        # )\n",
    "\n",
    "        # t_test_results.append({\n",
    "        #     \"environment\": env_name,\n",
    "        #     \"strategy\": \"optimized\",\n",
    "        #     \"t_stat\": t_stat,\n",
    "        #     \"p_value\": p_value,\n",
    "        #     \"isSignificant\": isSignificant,\n",
    "        # })\n",
    "\n",
    "        # epsilon-greedy and softmax performance\n",
    "        n_episodes = best_config.get(\"n_episodes\", N_ITERATIONS)\n",
    "\n",
    "        # Q-Learning setup\n",
    "        agent2 = RL2(env)\n",
    "\n",
    "        for strat in [\"epsilon_greedy\", \"softmax\"]:\n",
    "            for _ in range(CV_JOBS):\n",
    "                start_time = time.time()\n",
    "                Q, V, pi, Q_track, pi_track = agent2.q_learning(\n",
    "                    num_episodes=n_episodes,\n",
    "                    strategy=strat,\n",
    "                    strategy_params=strategy_params,\n",
    "                )\n",
    "                runtime = time.time() - start_time\n",
    "\n",
    "                # Evaluate policy\n",
    "                episode_rewards = TestEnv.test_env(env=env, n_iters=100, pi=pi)\n",
    "                average_reward = np.mean(episode_rewards)\n",
    "\n",
    "                iteration_converged = check_ql_convergence(Q_track)\n",
    "\n",
    "                results.append(\n",
    "                    {\n",
    "                        \"environment\": env_name,\n",
    "                        \"strategy\": strat,\n",
    "                        \"average_reward\": average_reward,\n",
    "                        \"runtime\": runtime,\n",
    "                        \"iterations_to_converge\": iteration_converged,\n",
    "                    }\n",
    "                )\n",
    "\n",
    "            scores_mean = np.mean(average_reward)\n",
    "            scores_std = np.std(average_reward)\n",
    "            runtimes_mean = np.mean(runtime)\n",
    "            runtimes_std = np.std(runtime)\n",
    "            iterations_mean = np.mean(iteration_converged)\n",
    "            iterations_std = np.std(iteration_converged)\n",
    "\n",
    "            print(\n",
    "                f\"{env_name} {strat} Average reward: {np.round(scores_mean, 4)} +/- {np.round(scores_std, 4)}\"\n",
    "            )\n",
    "            print(\n",
    "                f\"{env_name} {strat} Average iterations to converge: {np.round(iterations_mean, 4)} +/- {np.round(iterations_std, 4)}\"\n",
    "            )\n",
    "            print(\n",
    "                f\"{env_name} {strat} Average runtime: {np.round(runtimes_mean, 4)} +/- {np.round(runtimes_std, 4)} seconds\"\n",
    "            )\n",
    "\n",
    "            # t-test baseline vs strategy scores\n",
    "            # t_stat, p_value = stats.ttest_rel(\n",
    "            #     results[env_name][\"baseline\"][\"scores\"],\n",
    "            #     results[env_name][strat][\"scores\"],\n",
    "            # )\n",
    "            # isSignificant = p_value < 0.05\n",
    "            # print(\n",
    "            #     f\"{env_name} {strat} t-statistic: {t_stat}, p-value: {p_value}, Significance: {isSignificant}\"\n",
    "            # )\n",
    "\n",
    "            # t_test_results.append({\n",
    "            #     \"environment\": env_name,\n",
    "            #     \"strategy\": strat,\n",
    "            #     \"t_stat\": t_stat,\n",
    "            #     \"p_value\": p_value,\n",
    "            #     \"isSignificant\": isSignificant,\n",
    "            # })"
   ]
  },
  {
   "cell_type": "code",
   "execution_count": 10,
   "metadata": {},
   "outputs": [
    {
     "data": {
      "text/html": [
       "<div>\n",
       "<style scoped>\n",
       "    .dataframe tbody tr th:only-of-type {\n",
       "        vertical-align: middle;\n",
       "    }\n",
       "\n",
       "    .dataframe tbody tr th {\n",
       "        vertical-align: top;\n",
       "    }\n",
       "\n",
       "    .dataframe thead th {\n",
       "        text-align: right;\n",
       "    }\n",
       "</style>\n",
       "<table border=\"1\" class=\"dataframe\">\n",
       "  <thead>\n",
       "    <tr style=\"text-align: right;\">\n",
       "      <th></th>\n",
       "      <th>environment</th>\n",
       "      <th>strategy</th>\n",
       "      <th>average_reward</th>\n",
       "      <th>runtime</th>\n",
       "      <th>iterations_to_converge</th>\n",
       "    </tr>\n",
       "  </thead>\n",
       "  <tbody>\n",
       "    <tr>\n",
       "      <th>0</th>\n",
       "      <td>FrozenLake8x8-v1</td>\n",
       "      <td>baseline</td>\n",
       "      <td>0.84</td>\n",
       "      <td>5.007597</td>\n",
       "      <td>1</td>\n",
       "    </tr>\n",
       "    <tr>\n",
       "      <th>1</th>\n",
       "      <td>FrozenLake8x8-v1</td>\n",
       "      <td>baseline</td>\n",
       "      <td>0.00</td>\n",
       "      <td>6.464121</td>\n",
       "      <td>1</td>\n",
       "    </tr>\n",
       "    <tr>\n",
       "      <th>2</th>\n",
       "      <td>FrozenLake8x8-v1</td>\n",
       "      <td>baseline</td>\n",
       "      <td>0.00</td>\n",
       "      <td>6.624337</td>\n",
       "      <td>1</td>\n",
       "    </tr>\n",
       "    <tr>\n",
       "      <th>3</th>\n",
       "      <td>FrozenLake8x8-v1</td>\n",
       "      <td>baseline</td>\n",
       "      <td>0.00</td>\n",
       "      <td>6.474760</td>\n",
       "      <td>1</td>\n",
       "    </tr>\n",
       "    <tr>\n",
       "      <th>4</th>\n",
       "      <td>FrozenLake8x8-v1</td>\n",
       "      <td>baseline</td>\n",
       "      <td>0.00</td>\n",
       "      <td>6.346132</td>\n",
       "      <td>1</td>\n",
       "    </tr>\n",
       "    <tr>\n",
       "      <th>...</th>\n",
       "      <td>...</td>\n",
       "      <td>...</td>\n",
       "      <td>...</td>\n",
       "      <td>...</td>\n",
       "      <td>...</td>\n",
       "    </tr>\n",
       "    <tr>\n",
       "      <th>235</th>\n",
       "      <td>Blackjack-v1</td>\n",
       "      <td>softmax</td>\n",
       "      <td>-0.31</td>\n",
       "      <td>0.678787</td>\n",
       "      <td>56</td>\n",
       "    </tr>\n",
       "    <tr>\n",
       "      <th>236</th>\n",
       "      <td>Blackjack-v1</td>\n",
       "      <td>softmax</td>\n",
       "      <td>-0.21</td>\n",
       "      <td>0.676793</td>\n",
       "      <td>8</td>\n",
       "    </tr>\n",
       "    <tr>\n",
       "      <th>237</th>\n",
       "      <td>Blackjack-v1</td>\n",
       "      <td>softmax</td>\n",
       "      <td>-0.15</td>\n",
       "      <td>0.671025</td>\n",
       "      <td>3</td>\n",
       "    </tr>\n",
       "    <tr>\n",
       "      <th>238</th>\n",
       "      <td>Blackjack-v1</td>\n",
       "      <td>softmax</td>\n",
       "      <td>-0.31</td>\n",
       "      <td>0.685600</td>\n",
       "      <td>69</td>\n",
       "    </tr>\n",
       "    <tr>\n",
       "      <th>239</th>\n",
       "      <td>Blackjack-v1</td>\n",
       "      <td>softmax</td>\n",
       "      <td>-0.16</td>\n",
       "      <td>0.683230</td>\n",
       "      <td>11</td>\n",
       "    </tr>\n",
       "  </tbody>\n",
       "</table>\n",
       "<p>240 rows × 5 columns</p>\n",
       "</div>"
      ],
      "text/plain": [
       "          environment  strategy  average_reward   runtime  \\\n",
       "0    FrozenLake8x8-v1  baseline            0.84  5.007597   \n",
       "1    FrozenLake8x8-v1  baseline            0.00  6.464121   \n",
       "2    FrozenLake8x8-v1  baseline            0.00  6.624337   \n",
       "3    FrozenLake8x8-v1  baseline            0.00  6.474760   \n",
       "4    FrozenLake8x8-v1  baseline            0.00  6.346132   \n",
       "..                ...       ...             ...       ...   \n",
       "235      Blackjack-v1   softmax           -0.31  0.678787   \n",
       "236      Blackjack-v1   softmax           -0.21  0.676793   \n",
       "237      Blackjack-v1   softmax           -0.15  0.671025   \n",
       "238      Blackjack-v1   softmax           -0.31  0.685600   \n",
       "239      Blackjack-v1   softmax           -0.16  0.683230   \n",
       "\n",
       "     iterations_to_converge  \n",
       "0                         1  \n",
       "1                         1  \n",
       "2                         1  \n",
       "3                         1  \n",
       "4                         1  \n",
       "..                      ...  \n",
       "235                      56  \n",
       "236                       8  \n",
       "237                       3  \n",
       "238                      69  \n",
       "239                      11  \n",
       "\n",
       "[240 rows x 5 columns]"
      ]
     },
     "execution_count": 10,
     "metadata": {},
     "output_type": "execute_result"
    }
   ],
   "source": [
    "df_results = pd.DataFrame(results)\n",
    "df_results"
   ]
  },
  {
   "cell_type": "code",
   "execution_count": 11,
   "metadata": {},
   "outputs": [
    {
     "data": {
      "text/html": [
       "<div>\n",
       "<style scoped>\n",
       "    .dataframe tbody tr th:only-of-type {\n",
       "        vertical-align: middle;\n",
       "    }\n",
       "\n",
       "    .dataframe tbody tr th {\n",
       "        vertical-align: top;\n",
       "    }\n",
       "\n",
       "    .dataframe thead tr th {\n",
       "        text-align: left;\n",
       "    }\n",
       "\n",
       "    .dataframe thead tr:last-of-type th {\n",
       "        text-align: right;\n",
       "    }\n",
       "</style>\n",
       "<table border=\"1\" class=\"dataframe\">\n",
       "  <thead>\n",
       "    <tr>\n",
       "      <th></th>\n",
       "      <th></th>\n",
       "      <th colspan=\"2\" halign=\"left\">average_reward</th>\n",
       "      <th colspan=\"2\" halign=\"left\">runtime</th>\n",
       "    </tr>\n",
       "    <tr>\n",
       "      <th></th>\n",
       "      <th></th>\n",
       "      <th>mean</th>\n",
       "      <th>std</th>\n",
       "      <th>mean</th>\n",
       "      <th>std</th>\n",
       "    </tr>\n",
       "    <tr>\n",
       "      <th>environment</th>\n",
       "      <th>strategy</th>\n",
       "      <th></th>\n",
       "      <th></th>\n",
       "      <th></th>\n",
       "      <th></th>\n",
       "    </tr>\n",
       "  </thead>\n",
       "  <tbody>\n",
       "    <tr>\n",
       "      <th rowspan=\"4\" valign=\"top\">Blackjack-v1</th>\n",
       "      <th>baseline</th>\n",
       "      <td>-0.0905</td>\n",
       "      <td>0.054914</td>\n",
       "      <td>0.480789</td>\n",
       "      <td>0.009095</td>\n",
       "    </tr>\n",
       "    <tr>\n",
       "      <th>epsilon_greedy</th>\n",
       "      <td>-0.2220</td>\n",
       "      <td>0.087696</td>\n",
       "      <td>0.487068</td>\n",
       "      <td>0.016052</td>\n",
       "    </tr>\n",
       "    <tr>\n",
       "      <th>optimized</th>\n",
       "      <td>-0.0805</td>\n",
       "      <td>0.068247</td>\n",
       "      <td>0.496300</td>\n",
       "      <td>0.046215</td>\n",
       "    </tr>\n",
       "    <tr>\n",
       "      <th>softmax</th>\n",
       "      <td>-0.2280</td>\n",
       "      <td>0.081538</td>\n",
       "      <td>0.703292</td>\n",
       "      <td>0.036097</td>\n",
       "    </tr>\n",
       "    <tr>\n",
       "      <th rowspan=\"4\" valign=\"top\">FrozenLake16x16-v1</th>\n",
       "      <th>baseline</th>\n",
       "      <td>0.0000</td>\n",
       "      <td>0.000000</td>\n",
       "      <td>4.972148</td>\n",
       "      <td>0.075668</td>\n",
       "    </tr>\n",
       "    <tr>\n",
       "      <th>epsilon_greedy</th>\n",
       "      <td>0.0000</td>\n",
       "      <td>0.000000</td>\n",
       "      <td>5.937748</td>\n",
       "      <td>0.045355</td>\n",
       "    </tr>\n",
       "    <tr>\n",
       "      <th>optimized</th>\n",
       "      <td>0.0000</td>\n",
       "      <td>0.000000</td>\n",
       "      <td>5.883211</td>\n",
       "      <td>0.076739</td>\n",
       "    </tr>\n",
       "    <tr>\n",
       "      <th>softmax</th>\n",
       "      <td>0.0000</td>\n",
       "      <td>0.000000</td>\n",
       "      <td>5.633026</td>\n",
       "      <td>0.079705</td>\n",
       "    </tr>\n",
       "    <tr>\n",
       "      <th rowspan=\"4\" valign=\"top\">FrozenLake8x8-v1</th>\n",
       "      <th>baseline</th>\n",
       "      <td>0.1640</td>\n",
       "      <td>0.336646</td>\n",
       "      <td>6.093571</td>\n",
       "      <td>0.561879</td>\n",
       "    </tr>\n",
       "    <tr>\n",
       "      <th>epsilon_greedy</th>\n",
       "      <td>0.0000</td>\n",
       "      <td>0.000000</td>\n",
       "      <td>11.988782</td>\n",
       "      <td>0.045822</td>\n",
       "    </tr>\n",
       "    <tr>\n",
       "      <th>optimized</th>\n",
       "      <td>0.0760</td>\n",
       "      <td>0.234485</td>\n",
       "      <td>7.950081</td>\n",
       "      <td>1.081008</td>\n",
       "    </tr>\n",
       "    <tr>\n",
       "      <th>softmax</th>\n",
       "      <td>0.7815</td>\n",
       "      <td>0.092468</td>\n",
       "      <td>18.253976</td>\n",
       "      <td>1.594685</td>\n",
       "    </tr>\n",
       "  </tbody>\n",
       "</table>\n",
       "</div>"
      ],
      "text/plain": [
       "                                  average_reward              runtime  \\\n",
       "                                            mean       std       mean   \n",
       "environment        strategy                                             \n",
       "Blackjack-v1       baseline              -0.0905  0.054914   0.480789   \n",
       "                   epsilon_greedy        -0.2220  0.087696   0.487068   \n",
       "                   optimized             -0.0805  0.068247   0.496300   \n",
       "                   softmax               -0.2280  0.081538   0.703292   \n",
       "FrozenLake16x16-v1 baseline               0.0000  0.000000   4.972148   \n",
       "                   epsilon_greedy         0.0000  0.000000   5.937748   \n",
       "                   optimized              0.0000  0.000000   5.883211   \n",
       "                   softmax                0.0000  0.000000   5.633026   \n",
       "FrozenLake8x8-v1   baseline               0.1640  0.336646   6.093571   \n",
       "                   epsilon_greedy         0.0000  0.000000  11.988782   \n",
       "                   optimized              0.0760  0.234485   7.950081   \n",
       "                   softmax                0.7815  0.092468  18.253976   \n",
       "\n",
       "                                             \n",
       "                                        std  \n",
       "environment        strategy                  \n",
       "Blackjack-v1       baseline        0.009095  \n",
       "                   epsilon_greedy  0.016052  \n",
       "                   optimized       0.046215  \n",
       "                   softmax         0.036097  \n",
       "FrozenLake16x16-v1 baseline        0.075668  \n",
       "                   epsilon_greedy  0.045355  \n",
       "                   optimized       0.076739  \n",
       "                   softmax         0.079705  \n",
       "FrozenLake8x8-v1   baseline        0.561879  \n",
       "                   epsilon_greedy  0.045822  \n",
       "                   optimized       1.081008  \n",
       "                   softmax         1.594685  "
      ]
     },
     "execution_count": 11,
     "metadata": {},
     "output_type": "execute_result"
    }
   ],
   "source": [
    "# group by environment and strategy and calculate mean and std\n",
    "df_results_grouped = df_results.groupby([\"environment\", \"strategy\"]).agg(\n",
    "    {\"average_reward\": [\"mean\", \"std\"], \"runtime\": [\"mean\", \"std\"]}\n",
    ")\n",
    "\n",
    "df_results_grouped"
   ]
  },
  {
   "cell_type": "code",
   "execution_count": null,
   "metadata": {},
   "outputs": [],
   "source": []
  }
 ],
 "metadata": {
  "kernelspec": {
   "display_name": "bettermdptools",
   "language": "python",
   "name": "python3"
  },
  "language_info": {
   "codemirror_mode": {
    "name": "ipython",
    "version": 3
   },
   "file_extension": ".py",
   "mimetype": "text/x-python",
   "name": "python",
   "nbconvert_exporter": "python",
   "pygments_lexer": "ipython3",
   "version": "3.11.7"
  }
 },
 "nbformat": 4,
 "nbformat_minor": 2
}
