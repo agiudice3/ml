{
 "cells": [
  {
   "cell_type": "code",
   "execution_count": 8,
   "metadata": {},
   "outputs": [
    {
     "name": "stdout",
     "output_type": "stream",
     "text": [
      "runtime = 0.40 seconds\n"
     ]
    },
    {
     "name": "stderr",
     "output_type": "stream",
     "text": [
      "/Users/aaron/Projects/bettermdptools/bettermdptools/lib/python3.11/site-packages/gymnasium/utils/passive_env_checker.py:233: DeprecationWarning: `np.bool8` is a deprecated alias for `np.bool_`.  (Deprecated NumPy 1.24)\n",
      "  if not isinstance(terminated, (bool, np.bool8)):\n"
     ]
    },
    {
     "name": "stdout",
     "output_type": "stream",
     "text": [
      "runtime = 0.42 seconds\n",
      "runtime = 0.40 seconds\n",
      "runtime = 0.40 seconds\n",
      "runtime = 0.40 seconds\n",
      "runtime = 0.40 seconds\n",
      "runtime = 0.40 seconds\n",
      "runtime = 0.40 seconds\n",
      "runtime = 0.40 seconds\n",
      "runtime = 0.40 seconds\n",
      "runtime = 0.40 seconds\n",
      "runtime = 0.40 seconds\n",
      "runtime = 0.40 seconds\n",
      "runtime = 0.40 seconds\n",
      "runtime = 0.40 seconds\n",
      "runtime = 0.41 seconds\n",
      "runtime = 0.40 seconds\n",
      "runtime = 0.40 seconds\n",
      "runtime = 0.40 seconds\n",
      "runtime = 0.40 seconds\n",
      "runtime = 0.31 seconds\n",
      "runtime = 0.32 seconds\n",
      "runtime = 0.32 seconds\n",
      "runtime = 0.32 seconds\n",
      "runtime = 0.31 seconds\n",
      "runtime = 0.31 seconds\n",
      "runtime = 0.31 seconds\n",
      "runtime = 0.32 seconds\n",
      "runtime = 0.31 seconds\n",
      "runtime = 0.31 seconds\n",
      "runtime = 0.31 seconds\n",
      "runtime = 0.31 seconds\n",
      "runtime = 0.33 seconds\n",
      "runtime = 0.31 seconds\n",
      "runtime = 0.31 seconds\n",
      "runtime = 0.31 seconds\n",
      "runtime = 0.31 seconds\n",
      "runtime = 0.31 seconds\n",
      "runtime = 0.31 seconds\n",
      "runtime = 0.31 seconds\n",
      "runtime = 0.25 seconds\n",
      "runtime = 0.25 seconds\n",
      "runtime = 0.25 seconds\n",
      "runtime = 0.24 seconds\n",
      "runtime = 0.25 seconds\n",
      "runtime = 0.24 seconds\n",
      "runtime = 0.25 seconds\n",
      "runtime = 0.25 seconds\n",
      "runtime = 0.25 seconds\n",
      "runtime = 0.25 seconds\n",
      "runtime = 0.25 seconds\n",
      "runtime = 0.24 seconds\n",
      "runtime = 0.24 seconds\n",
      "runtime = 0.24 seconds\n",
      "runtime = 0.25 seconds\n",
      "runtime = 0.24 seconds\n",
      "runtime = 0.25 seconds\n",
      "runtime = 0.24 seconds\n",
      "runtime = 0.25 seconds\n",
      "runtime = 0.24 seconds\n",
      "runtime = 0.12 seconds\n",
      "runtime = 0.12 seconds\n",
      "runtime = 0.12 seconds\n",
      "runtime = 0.12 seconds\n",
      "runtime = 0.12 seconds\n",
      "runtime = 0.12 seconds\n",
      "runtime = 0.12 seconds\n",
      "runtime = 0.12 seconds\n",
      "runtime = 0.12 seconds\n",
      "runtime = 0.12 seconds\n",
      "runtime = 0.12 seconds\n",
      "runtime = 0.12 seconds\n",
      "runtime = 0.12 seconds\n",
      "runtime = 0.12 seconds\n",
      "runtime = 0.12 seconds\n",
      "runtime = 0.12 seconds\n",
      "runtime = 0.12 seconds\n",
      "runtime = 0.12 seconds\n",
      "runtime = 0.12 seconds\n",
      "runtime = 0.12 seconds\n"
     ]
    },
    {
     "name": "stderr",
     "output_type": "stream",
     "text": [
      "  4%|▍         | 383/10000 [00:00<00:02, 3819.99it/s]/Users/aaron/Projects/bettermdptools/bettermdptools/algorithms/rl.py:179: UserWarning: Episode was truncated.  Bootstrapping 0 reward.\n",
      "  warnings.warn(\"Episode was truncated.  Bootstrapping 0 reward.\")\n",
      "                                                      \r"
     ]
    },
    {
     "name": "stdout",
     "output_type": "stream",
     "text": [
      "runtime = 6.25 seconds\n"
     ]
    },
    {
     "name": "stderr",
     "output_type": "stream",
     "text": [
      "                                                      \r"
     ]
    },
    {
     "name": "stdout",
     "output_type": "stream",
     "text": [
      "runtime = 6.12 seconds\n"
     ]
    },
    {
     "name": "stderr",
     "output_type": "stream",
     "text": [
      "                                                      \r"
     ]
    },
    {
     "name": "stdout",
     "output_type": "stream",
     "text": [
      "runtime = 6.27 seconds\n"
     ]
    },
    {
     "name": "stderr",
     "output_type": "stream",
     "text": [
      "                                                      \r"
     ]
    },
    {
     "name": "stdout",
     "output_type": "stream",
     "text": [
      "runtime = 6.25 seconds\n"
     ]
    },
    {
     "name": "stderr",
     "output_type": "stream",
     "text": [
      "                                                      \r"
     ]
    },
    {
     "name": "stdout",
     "output_type": "stream",
     "text": [
      "runtime = 6.18 seconds\n"
     ]
    },
    {
     "name": "stderr",
     "output_type": "stream",
     "text": [
      "                                                      \r"
     ]
    },
    {
     "name": "stdout",
     "output_type": "stream",
     "text": [
      "runtime = 5.03 seconds\n"
     ]
    },
    {
     "name": "stderr",
     "output_type": "stream",
     "text": [
      "                                                      \r"
     ]
    },
    {
     "name": "stdout",
     "output_type": "stream",
     "text": [
      "runtime = 6.37 seconds\n"
     ]
    },
    {
     "name": "stderr",
     "output_type": "stream",
     "text": [
      "                                                      \r"
     ]
    },
    {
     "name": "stdout",
     "output_type": "stream",
     "text": [
      "runtime = 6.27 seconds\n"
     ]
    },
    {
     "name": "stderr",
     "output_type": "stream",
     "text": [
      "                                                      \r"
     ]
    },
    {
     "name": "stdout",
     "output_type": "stream",
     "text": [
      "runtime = 6.24 seconds\n"
     ]
    },
    {
     "name": "stderr",
     "output_type": "stream",
     "text": [
      "                                                      \r"
     ]
    },
    {
     "name": "stdout",
     "output_type": "stream",
     "text": [
      "runtime = 6.23 seconds\n"
     ]
    },
    {
     "name": "stderr",
     "output_type": "stream",
     "text": [
      "                                                      \r"
     ]
    },
    {
     "name": "stdout",
     "output_type": "stream",
     "text": [
      "runtime = 6.18 seconds\n"
     ]
    },
    {
     "name": "stderr",
     "output_type": "stream",
     "text": [
      "                                                      \r"
     ]
    },
    {
     "name": "stdout",
     "output_type": "stream",
     "text": [
      "runtime = 6.20 seconds\n"
     ]
    },
    {
     "name": "stderr",
     "output_type": "stream",
     "text": [
      "                                                      \r"
     ]
    },
    {
     "name": "stdout",
     "output_type": "stream",
     "text": [
      "runtime = 4.88 seconds\n"
     ]
    },
    {
     "name": "stderr",
     "output_type": "stream",
     "text": [
      "                                                      \r"
     ]
    },
    {
     "name": "stdout",
     "output_type": "stream",
     "text": [
      "runtime = 6.14 seconds\n"
     ]
    },
    {
     "name": "stderr",
     "output_type": "stream",
     "text": [
      "                                                      \r"
     ]
    },
    {
     "name": "stdout",
     "output_type": "stream",
     "text": [
      "runtime = 6.28 seconds\n"
     ]
    },
    {
     "name": "stderr",
     "output_type": "stream",
     "text": [
      "                                                      \r"
     ]
    },
    {
     "name": "stdout",
     "output_type": "stream",
     "text": [
      "runtime = 6.19 seconds\n"
     ]
    },
    {
     "name": "stderr",
     "output_type": "stream",
     "text": [
      "                                                      \r"
     ]
    },
    {
     "name": "stdout",
     "output_type": "stream",
     "text": [
      "runtime = 6.22 seconds\n"
     ]
    },
    {
     "name": "stderr",
     "output_type": "stream",
     "text": [
      "                                                      \r"
     ]
    },
    {
     "name": "stdout",
     "output_type": "stream",
     "text": [
      "runtime = 6.23 seconds\n"
     ]
    },
    {
     "name": "stderr",
     "output_type": "stream",
     "text": [
      "                                                      \r"
     ]
    },
    {
     "name": "stdout",
     "output_type": "stream",
     "text": [
      "runtime = 6.19 seconds\n"
     ]
    },
    {
     "name": "stderr",
     "output_type": "stream",
     "text": [
      "                                                      \r"
     ]
    },
    {
     "name": "stdout",
     "output_type": "stream",
     "text": [
      "runtime = 6.20 seconds\n"
     ]
    },
    {
     "name": "stderr",
     "output_type": "stream",
     "text": [
      "                                                      \r"
     ]
    },
    {
     "name": "stdout",
     "output_type": "stream",
     "text": [
      "runtime = 4.72 seconds\n"
     ]
    },
    {
     "name": "stderr",
     "output_type": "stream",
     "text": [
      "                                                      \r"
     ]
    },
    {
     "name": "stdout",
     "output_type": "stream",
     "text": [
      "runtime = 8.24 seconds\n"
     ]
    },
    {
     "name": "stderr",
     "output_type": "stream",
     "text": [
      "                                                      \r"
     ]
    },
    {
     "name": "stdout",
     "output_type": "stream",
     "text": [
      "runtime = 8.10 seconds\n"
     ]
    },
    {
     "name": "stderr",
     "output_type": "stream",
     "text": [
      "                                                      \r"
     ]
    },
    {
     "name": "stdout",
     "output_type": "stream",
     "text": [
      "runtime = 8.25 seconds\n"
     ]
    },
    {
     "name": "stderr",
     "output_type": "stream",
     "text": [
      "                                                      \r"
     ]
    },
    {
     "name": "stdout",
     "output_type": "stream",
     "text": [
      "runtime = 8.16 seconds\n"
     ]
    },
    {
     "name": "stderr",
     "output_type": "stream",
     "text": [
      "                                                      \r"
     ]
    },
    {
     "name": "stdout",
     "output_type": "stream",
     "text": [
      "runtime = 4.79 seconds\n"
     ]
    },
    {
     "name": "stderr",
     "output_type": "stream",
     "text": [
      "                                                      \r"
     ]
    },
    {
     "name": "stdout",
     "output_type": "stream",
     "text": [
      "runtime = 8.26 seconds\n"
     ]
    },
    {
     "name": "stderr",
     "output_type": "stream",
     "text": [
      "                                                      \r"
     ]
    },
    {
     "name": "stdout",
     "output_type": "stream",
     "text": [
      "runtime = 8.16 seconds\n"
     ]
    },
    {
     "name": "stderr",
     "output_type": "stream",
     "text": [
      "                                                      \r"
     ]
    },
    {
     "name": "stdout",
     "output_type": "stream",
     "text": [
      "runtime = 4.73 seconds\n"
     ]
    },
    {
     "name": "stderr",
     "output_type": "stream",
     "text": [
      "                                                      \r"
     ]
    },
    {
     "name": "stdout",
     "output_type": "stream",
     "text": [
      "runtime = 8.32 seconds\n"
     ]
    },
    {
     "name": "stderr",
     "output_type": "stream",
     "text": [
      "                                                      \r"
     ]
    },
    {
     "name": "stdout",
     "output_type": "stream",
     "text": [
      "runtime = 8.20 seconds\n"
     ]
    },
    {
     "name": "stderr",
     "output_type": "stream",
     "text": [
      "                                                      \r"
     ]
    },
    {
     "name": "stdout",
     "output_type": "stream",
     "text": [
      "runtime = 8.20 seconds\n"
     ]
    },
    {
     "name": "stderr",
     "output_type": "stream",
     "text": [
      "                                                      \r"
     ]
    },
    {
     "name": "stdout",
     "output_type": "stream",
     "text": [
      "runtime = 8.37 seconds\n"
     ]
    },
    {
     "name": "stderr",
     "output_type": "stream",
     "text": [
      "                                                      \r"
     ]
    },
    {
     "name": "stdout",
     "output_type": "stream",
     "text": [
      "runtime = 8.58 seconds\n"
     ]
    },
    {
     "name": "stderr",
     "output_type": "stream",
     "text": [
      "                                                      \r"
     ]
    },
    {
     "name": "stdout",
     "output_type": "stream",
     "text": [
      "runtime = 8.32 seconds\n"
     ]
    },
    {
     "name": "stderr",
     "output_type": "stream",
     "text": [
      "                                                      \r"
     ]
    },
    {
     "name": "stdout",
     "output_type": "stream",
     "text": [
      "runtime = 8.26 seconds\n"
     ]
    },
    {
     "name": "stderr",
     "output_type": "stream",
     "text": [
      "                                                      \r"
     ]
    },
    {
     "name": "stdout",
     "output_type": "stream",
     "text": [
      "runtime = 4.75 seconds\n"
     ]
    },
    {
     "name": "stderr",
     "output_type": "stream",
     "text": [
      "                                                      \r"
     ]
    },
    {
     "name": "stdout",
     "output_type": "stream",
     "text": [
      "runtime = 8.70 seconds\n"
     ]
    },
    {
     "name": "stderr",
     "output_type": "stream",
     "text": [
      "                                                      \r"
     ]
    },
    {
     "name": "stdout",
     "output_type": "stream",
     "text": [
      "runtime = 8.65 seconds\n"
     ]
    },
    {
     "name": "stderr",
     "output_type": "stream",
     "text": [
      "/Users/aaron/Projects/bettermdptools/bettermdptools/lib/python3.11/site-packages/gymnasium/utils/passive_env_checker.py:233: DeprecationWarning: `np.bool8` is a deprecated alias for `np.bool_`.  (Deprecated NumPy 1.24)\n",
      "  if not isinstance(terminated, (bool, np.bool8)):\n"
     ]
    },
    {
     "name": "stdout",
     "output_type": "stream",
     "text": [
      "runtime = 8.22 seconds\n",
      "runtime = 0.00 seconds\n",
      "runtime = 0.00 seconds\n",
      "runtime = 0.00 seconds\n",
      "runtime = 0.00 seconds\n",
      "runtime = 0.00 seconds\n",
      "runtime = 0.00 seconds\n",
      "runtime = 0.00 seconds\n",
      "runtime = 0.00 seconds\n",
      "runtime = 0.00 seconds\n",
      "runtime = 0.00 seconds\n",
      "runtime = 0.00 seconds\n",
      "runtime = 0.00 seconds\n",
      "runtime = 0.00 seconds\n",
      "runtime = 0.00 seconds\n",
      "runtime = 0.00 seconds\n",
      "runtime = 0.00 seconds\n",
      "runtime = 0.00 seconds\n",
      "runtime = 0.00 seconds\n",
      "runtime = 0.00 seconds\n",
      "runtime = 0.00 seconds\n",
      "runtime = 0.00 seconds\n",
      "runtime = 0.00 seconds\n",
      "runtime = 0.00 seconds\n",
      "runtime = 0.00 seconds\n",
      "runtime = 0.00 seconds\n",
      "runtime = 0.00 seconds\n",
      "runtime = 0.00 seconds\n",
      "runtime = 0.00 seconds\n",
      "runtime = 0.00 seconds\n",
      "runtime = 0.00 seconds\n",
      "runtime = 0.00 seconds\n",
      "runtime = 0.00 seconds\n",
      "runtime = 0.00 seconds\n",
      "runtime = 0.00 seconds\n",
      "runtime = 0.00 seconds\n",
      "runtime = 0.00 seconds\n",
      "runtime = 0.00 seconds\n",
      "runtime = 0.00 seconds\n",
      "runtime = 0.00 seconds\n",
      "runtime = 0.00 seconds\n",
      "runtime = 0.00 seconds\n",
      "runtime = 0.00 seconds\n",
      "runtime = 0.00 seconds\n",
      "runtime = 0.00 seconds\n",
      "runtime = 0.00 seconds\n",
      "runtime = 0.00 seconds\n",
      "runtime = 0.00 seconds\n",
      "runtime = 0.00 seconds\n",
      "runtime = 0.00 seconds\n",
      "runtime = 0.00 seconds\n",
      "runtime = 0.00 seconds\n",
      "runtime = 0.00 seconds\n",
      "runtime = 0.00 seconds\n",
      "runtime = 0.00 seconds\n",
      "runtime = 0.00 seconds\n",
      "runtime = 0.00 seconds\n",
      "runtime = 0.00 seconds\n",
      "runtime = 0.00 seconds\n",
      "runtime = 0.00 seconds\n",
      "runtime = 0.00 seconds\n",
      "runtime = 0.00 seconds\n",
      "runtime = 0.00 seconds\n",
      "runtime = 0.00 seconds\n",
      "runtime = 0.00 seconds\n",
      "runtime = 0.00 seconds\n",
      "runtime = 0.00 seconds\n",
      "runtime = 0.00 seconds\n",
      "runtime = 0.00 seconds\n",
      "runtime = 0.00 seconds\n",
      "runtime = 0.00 seconds\n",
      "runtime = 0.00 seconds\n",
      "runtime = 0.00 seconds\n",
      "runtime = 0.00 seconds\n",
      "runtime = 0.00 seconds\n",
      "runtime = 0.00 seconds\n",
      "runtime = 0.00 seconds\n",
      "runtime = 0.00 seconds\n",
      "runtime = 0.00 seconds\n",
      "runtime = 0.00 seconds\n",
      "runtime = 0.00 seconds\n"
     ]
    },
    {
     "name": "stderr",
     "output_type": "stream",
     "text": [
      "  3%|▎         | 340/10000 [00:00<00:02, 3392.80it/s]/Users/aaron/Projects/bettermdptools/bettermdptools/algorithms/rl.py:179: UserWarning: Episode was truncated.  Bootstrapping 0 reward.\n",
      "  warnings.warn(\"Episode was truncated.  Bootstrapping 0 reward.\")\n",
      "                                                      \r"
     ]
    },
    {
     "name": "stdout",
     "output_type": "stream",
     "text": [
      "runtime = 11.41 seconds\n"
     ]
    },
    {
     "name": "stderr",
     "output_type": "stream",
     "text": [
      "                                                      \r"
     ]
    },
    {
     "name": "stdout",
     "output_type": "stream",
     "text": [
      "runtime = 11.54 seconds\n"
     ]
    },
    {
     "name": "stderr",
     "output_type": "stream",
     "text": [
      "                                                      \r"
     ]
    },
    {
     "name": "stdout",
     "output_type": "stream",
     "text": [
      "runtime = 11.58 seconds\n"
     ]
    },
    {
     "name": "stderr",
     "output_type": "stream",
     "text": [
      "                                                      \r"
     ]
    },
    {
     "name": "stdout",
     "output_type": "stream",
     "text": [
      "runtime = 11.46 seconds\n"
     ]
    },
    {
     "name": "stderr",
     "output_type": "stream",
     "text": [
      "                                                      \r"
     ]
    },
    {
     "name": "stdout",
     "output_type": "stream",
     "text": [
      "runtime = 11.54 seconds\n"
     ]
    },
    {
     "name": "stderr",
     "output_type": "stream",
     "text": [
      "                                                      \r"
     ]
    },
    {
     "name": "stdout",
     "output_type": "stream",
     "text": [
      "runtime = 11.43 seconds\n"
     ]
    },
    {
     "name": "stderr",
     "output_type": "stream",
     "text": [
      "                                                      \r"
     ]
    },
    {
     "name": "stdout",
     "output_type": "stream",
     "text": [
      "runtime = 11.47 seconds\n"
     ]
    },
    {
     "name": "stderr",
     "output_type": "stream",
     "text": [
      "                                                      \r"
     ]
    },
    {
     "name": "stdout",
     "output_type": "stream",
     "text": [
      "runtime = 11.66 seconds\n"
     ]
    },
    {
     "name": "stderr",
     "output_type": "stream",
     "text": [
      "                                                      \r"
     ]
    },
    {
     "name": "stdout",
     "output_type": "stream",
     "text": [
      "runtime = 11.44 seconds\n"
     ]
    },
    {
     "name": "stderr",
     "output_type": "stream",
     "text": [
      "                                                      \r"
     ]
    },
    {
     "name": "stdout",
     "output_type": "stream",
     "text": [
      "runtime = 11.51 seconds\n"
     ]
    },
    {
     "name": "stderr",
     "output_type": "stream",
     "text": [
      "                                                      \r"
     ]
    },
    {
     "name": "stdout",
     "output_type": "stream",
     "text": [
      "runtime = 11.38 seconds\n"
     ]
    },
    {
     "name": "stderr",
     "output_type": "stream",
     "text": [
      "                                                      \r"
     ]
    },
    {
     "name": "stdout",
     "output_type": "stream",
     "text": [
      "runtime = 11.57 seconds\n"
     ]
    },
    {
     "name": "stderr",
     "output_type": "stream",
     "text": [
      "                                                      \r"
     ]
    },
    {
     "name": "stdout",
     "output_type": "stream",
     "text": [
      "runtime = 11.56 seconds\n"
     ]
    },
    {
     "name": "stderr",
     "output_type": "stream",
     "text": [
      "                                                      \r"
     ]
    },
    {
     "name": "stdout",
     "output_type": "stream",
     "text": [
      "runtime = 11.41 seconds\n"
     ]
    },
    {
     "name": "stderr",
     "output_type": "stream",
     "text": [
      "                                                      \r"
     ]
    },
    {
     "name": "stdout",
     "output_type": "stream",
     "text": [
      "runtime = 11.49 seconds\n"
     ]
    },
    {
     "name": "stderr",
     "output_type": "stream",
     "text": [
      "                                                      \r"
     ]
    },
    {
     "name": "stdout",
     "output_type": "stream",
     "text": [
      "runtime = 11.33 seconds\n"
     ]
    },
    {
     "name": "stderr",
     "output_type": "stream",
     "text": [
      "                                                      \r"
     ]
    },
    {
     "name": "stdout",
     "output_type": "stream",
     "text": [
      "runtime = 11.48 seconds\n"
     ]
    },
    {
     "name": "stderr",
     "output_type": "stream",
     "text": [
      "                                                      \r"
     ]
    },
    {
     "name": "stdout",
     "output_type": "stream",
     "text": [
      "runtime = 11.40 seconds\n"
     ]
    },
    {
     "name": "stderr",
     "output_type": "stream",
     "text": [
      "                                                      \r"
     ]
    },
    {
     "name": "stdout",
     "output_type": "stream",
     "text": [
      "runtime = 11.62 seconds\n"
     ]
    },
    {
     "name": "stderr",
     "output_type": "stream",
     "text": [
      "                                                      \r"
     ]
    },
    {
     "name": "stdout",
     "output_type": "stream",
     "text": [
      "runtime = 11.42 seconds\n"
     ]
    },
    {
     "name": "stderr",
     "output_type": "stream",
     "text": [
      "                                                      \r"
     ]
    },
    {
     "name": "stdout",
     "output_type": "stream",
     "text": [
      "runtime = 11.90 seconds\n"
     ]
    },
    {
     "name": "stderr",
     "output_type": "stream",
     "text": [
      "                                                      \r"
     ]
    },
    {
     "name": "stdout",
     "output_type": "stream",
     "text": [
      "runtime = 11.97 seconds\n"
     ]
    },
    {
     "name": "stderr",
     "output_type": "stream",
     "text": [
      "                                                      \r"
     ]
    },
    {
     "name": "stdout",
     "output_type": "stream",
     "text": [
      "runtime = 11.92 seconds\n"
     ]
    },
    {
     "name": "stderr",
     "output_type": "stream",
     "text": [
      "                                                      \r"
     ]
    },
    {
     "name": "stdout",
     "output_type": "stream",
     "text": [
      "runtime = 11.95 seconds\n"
     ]
    },
    {
     "name": "stderr",
     "output_type": "stream",
     "text": [
      "                                                      \r"
     ]
    },
    {
     "name": "stdout",
     "output_type": "stream",
     "text": [
      "runtime = 12.00 seconds\n"
     ]
    },
    {
     "name": "stderr",
     "output_type": "stream",
     "text": [
      "                                                      \r"
     ]
    },
    {
     "name": "stdout",
     "output_type": "stream",
     "text": [
      "runtime = 11.93 seconds\n"
     ]
    },
    {
     "name": "stderr",
     "output_type": "stream",
     "text": [
      "                                                      \r"
     ]
    },
    {
     "name": "stdout",
     "output_type": "stream",
     "text": [
      "runtime = 11.83 seconds\n"
     ]
    },
    {
     "name": "stderr",
     "output_type": "stream",
     "text": [
      "                                                      \r"
     ]
    },
    {
     "name": "stdout",
     "output_type": "stream",
     "text": [
      "runtime = 11.84 seconds\n"
     ]
    },
    {
     "name": "stderr",
     "output_type": "stream",
     "text": [
      "                                                      \r"
     ]
    },
    {
     "name": "stdout",
     "output_type": "stream",
     "text": [
      "runtime = 12.00 seconds\n"
     ]
    },
    {
     "name": "stderr",
     "output_type": "stream",
     "text": [
      "                                                      \r"
     ]
    },
    {
     "name": "stdout",
     "output_type": "stream",
     "text": [
      "runtime = 11.90 seconds\n"
     ]
    },
    {
     "name": "stderr",
     "output_type": "stream",
     "text": [
      "                                                      \r"
     ]
    },
    {
     "name": "stdout",
     "output_type": "stream",
     "text": [
      "runtime = 11.95 seconds\n"
     ]
    },
    {
     "name": "stderr",
     "output_type": "stream",
     "text": [
      "                                                      \r"
     ]
    },
    {
     "name": "stdout",
     "output_type": "stream",
     "text": [
      "runtime = 11.85 seconds\n"
     ]
    },
    {
     "name": "stderr",
     "output_type": "stream",
     "text": [
      "                                                      \r"
     ]
    },
    {
     "name": "stdout",
     "output_type": "stream",
     "text": [
      "runtime = 11.90 seconds\n"
     ]
    },
    {
     "name": "stderr",
     "output_type": "stream",
     "text": [
      "                                                      \r"
     ]
    },
    {
     "name": "stdout",
     "output_type": "stream",
     "text": [
      "runtime = 11.79 seconds\n"
     ]
    },
    {
     "name": "stderr",
     "output_type": "stream",
     "text": [
      "                                                      \r"
     ]
    },
    {
     "name": "stdout",
     "output_type": "stream",
     "text": [
      "runtime = 11.96 seconds\n"
     ]
    },
    {
     "name": "stderr",
     "output_type": "stream",
     "text": [
      "                                                      \r"
     ]
    },
    {
     "name": "stdout",
     "output_type": "stream",
     "text": [
      "runtime = 11.80 seconds\n"
     ]
    },
    {
     "name": "stderr",
     "output_type": "stream",
     "text": [
      "                                                      \r"
     ]
    },
    {
     "name": "stdout",
     "output_type": "stream",
     "text": [
      "runtime = 11.91 seconds\n"
     ]
    },
    {
     "name": "stderr",
     "output_type": "stream",
     "text": [
      "                                                      \r"
     ]
    },
    {
     "name": "stdout",
     "output_type": "stream",
     "text": [
      "runtime = 11.87 seconds\n"
     ]
    },
    {
     "name": "stderr",
     "output_type": "stream",
     "text": [
      "                                                      \r"
     ]
    },
    {
     "name": "stdout",
     "output_type": "stream",
     "text": [
      "runtime = 11.90 seconds\n"
     ]
    },
    {
     "name": "stderr",
     "output_type": "stream",
     "text": [
      "                                                      \r"
     ]
    },
    {
     "name": "stdout",
     "output_type": "stream",
     "text": [
      "runtime = 12.00 seconds\n",
      "runtime = 3.88 seconds\n"
     ]
    },
    {
     "name": "stderr",
     "output_type": "stream",
     "text": [
      "/Users/aaron/Projects/bettermdptools/bettermdptools/lib/python3.11/site-packages/gymnasium/utils/passive_env_checker.py:233: DeprecationWarning: `np.bool8` is a deprecated alias for `np.bool_`.  (Deprecated NumPy 1.24)\n",
      "  if not isinstance(terminated, (bool, np.bool8)):\n"
     ]
    },
    {
     "name": "stdout",
     "output_type": "stream",
     "text": [
      "runtime = 3.82 seconds\n",
      "runtime = 3.85 seconds\n",
      "runtime = 3.82 seconds\n",
      "runtime = 3.92 seconds\n",
      "runtime = 3.85 seconds\n",
      "runtime = 3.86 seconds\n",
      "runtime = 3.85 seconds\n",
      "runtime = 3.79 seconds\n",
      "runtime = 3.87 seconds\n",
      "runtime = 3.85 seconds\n",
      "runtime = 3.84 seconds\n",
      "runtime = 3.81 seconds\n",
      "runtime = 3.84 seconds\n",
      "runtime = 3.91 seconds\n",
      "runtime = 3.83 seconds\n",
      "runtime = 3.87 seconds\n",
      "runtime = 3.85 seconds\n",
      "runtime = 3.95 seconds\n",
      "runtime = 3.84 seconds\n",
      "runtime = 0.30 seconds\n",
      "runtime = 0.29 seconds\n",
      "runtime = 0.30 seconds\n",
      "runtime = 0.31 seconds\n",
      "runtime = 0.29 seconds\n",
      "runtime = 0.29 seconds\n",
      "runtime = 0.29 seconds\n",
      "runtime = 0.30 seconds\n",
      "runtime = 0.29 seconds\n",
      "runtime = 0.30 seconds\n",
      "runtime = 0.30 seconds\n",
      "runtime = 0.30 seconds\n",
      "runtime = 0.30 seconds\n",
      "runtime = 0.29 seconds\n",
      "runtime = 0.29 seconds\n",
      "runtime = 0.29 seconds\n",
      "runtime = 0.29 seconds\n",
      "runtime = 0.29 seconds\n",
      "runtime = 0.29 seconds\n",
      "runtime = 0.30 seconds\n",
      "runtime = 6.13 seconds\n",
      "runtime = 6.14 seconds\n",
      "runtime = 6.13 seconds\n",
      "runtime = 6.13 seconds\n",
      "runtime = 6.11 seconds\n",
      "runtime = 6.15 seconds\n",
      "runtime = 6.17 seconds\n",
      "runtime = 6.17 seconds\n",
      "runtime = 6.11 seconds\n",
      "runtime = 6.16 seconds\n",
      "runtime = 6.15 seconds\n",
      "runtime = 6.13 seconds\n",
      "runtime = 6.15 seconds\n",
      "runtime = 6.15 seconds\n",
      "runtime = 6.12 seconds\n",
      "runtime = 6.11 seconds\n",
      "runtime = 6.10 seconds\n",
      "runtime = 6.08 seconds\n",
      "runtime = 6.11 seconds\n",
      "runtime = 6.13 seconds\n",
      "runtime = 0.46 seconds\n",
      "runtime = 0.46 seconds\n",
      "runtime = 0.46 seconds\n",
      "runtime = 0.46 seconds\n",
      "runtime = 0.46 seconds\n",
      "runtime = 0.47 seconds\n",
      "runtime = 0.46 seconds\n",
      "runtime = 0.46 seconds\n",
      "runtime = 0.46 seconds\n",
      "runtime = 0.46 seconds\n",
      "runtime = 0.46 seconds\n",
      "runtime = 0.46 seconds\n",
      "runtime = 0.46 seconds\n",
      "runtime = 0.46 seconds\n",
      "runtime = 0.46 seconds\n",
      "runtime = 0.47 seconds\n",
      "runtime = 0.46 seconds\n",
      "runtime = 0.46 seconds\n",
      "runtime = 0.46 seconds\n",
      "runtime = 0.46 seconds\n"
     ]
    },
    {
     "name": "stderr",
     "output_type": "stream",
     "text": [
      " 12%|█▏        | 1181/10000 [00:00<00:02, 3390.24it/s]/Users/aaron/Projects/bettermdptools/bettermdptools/algorithms/rl.py:179: UserWarning: Episode was truncated.  Bootstrapping 0 reward.\n",
      "  warnings.warn(\"Episode was truncated.  Bootstrapping 0 reward.\")\n",
      "                                                      \r"
     ]
    },
    {
     "name": "stdout",
     "output_type": "stream",
     "text": [
      "runtime = 4.71 seconds\n"
     ]
    },
    {
     "name": "stderr",
     "output_type": "stream",
     "text": [
      "                                                      \r"
     ]
    },
    {
     "name": "stdout",
     "output_type": "stream",
     "text": [
      "runtime = 4.80 seconds\n"
     ]
    },
    {
     "name": "stderr",
     "output_type": "stream",
     "text": [
      "                                                      \r"
     ]
    },
    {
     "name": "stdout",
     "output_type": "stream",
     "text": [
      "runtime = 4.74 seconds\n"
     ]
    },
    {
     "name": "stderr",
     "output_type": "stream",
     "text": [
      "                                                      \r"
     ]
    },
    {
     "name": "stdout",
     "output_type": "stream",
     "text": [
      "runtime = 4.78 seconds\n"
     ]
    },
    {
     "name": "stderr",
     "output_type": "stream",
     "text": [
      "                                                      \r"
     ]
    },
    {
     "name": "stdout",
     "output_type": "stream",
     "text": [
      "runtime = 4.82 seconds\n"
     ]
    },
    {
     "name": "stderr",
     "output_type": "stream",
     "text": [
      "                                                      \r"
     ]
    },
    {
     "name": "stdout",
     "output_type": "stream",
     "text": [
      "runtime = 4.76 seconds\n"
     ]
    },
    {
     "name": "stderr",
     "output_type": "stream",
     "text": [
      "                                                      \r"
     ]
    },
    {
     "name": "stdout",
     "output_type": "stream",
     "text": [
      "runtime = 4.78 seconds\n"
     ]
    },
    {
     "name": "stderr",
     "output_type": "stream",
     "text": [
      "                                                      \r"
     ]
    },
    {
     "name": "stdout",
     "output_type": "stream",
     "text": [
      "runtime = 4.80 seconds\n"
     ]
    },
    {
     "name": "stderr",
     "output_type": "stream",
     "text": [
      "                                                      \r"
     ]
    },
    {
     "name": "stdout",
     "output_type": "stream",
     "text": [
      "runtime = 4.79 seconds\n"
     ]
    },
    {
     "name": "stderr",
     "output_type": "stream",
     "text": [
      "                                                      \r"
     ]
    },
    {
     "name": "stdout",
     "output_type": "stream",
     "text": [
      "runtime = 4.77 seconds\n"
     ]
    },
    {
     "name": "stderr",
     "output_type": "stream",
     "text": [
      "                                                      \r"
     ]
    },
    {
     "name": "stdout",
     "output_type": "stream",
     "text": [
      "runtime = 4.80 seconds\n"
     ]
    },
    {
     "name": "stderr",
     "output_type": "stream",
     "text": [
      "                                                      \r"
     ]
    },
    {
     "name": "stdout",
     "output_type": "stream",
     "text": [
      "runtime = 4.83 seconds\n"
     ]
    },
    {
     "name": "stderr",
     "output_type": "stream",
     "text": [
      "                                                      \r"
     ]
    },
    {
     "name": "stdout",
     "output_type": "stream",
     "text": [
      "runtime = 4.77 seconds\n"
     ]
    },
    {
     "name": "stderr",
     "output_type": "stream",
     "text": [
      "                                                      \r"
     ]
    },
    {
     "name": "stdout",
     "output_type": "stream",
     "text": [
      "runtime = 4.78 seconds\n"
     ]
    },
    {
     "name": "stderr",
     "output_type": "stream",
     "text": [
      "                                                      \r"
     ]
    },
    {
     "name": "stdout",
     "output_type": "stream",
     "text": [
      "runtime = 4.78 seconds\n"
     ]
    },
    {
     "name": "stderr",
     "output_type": "stream",
     "text": [
      "                                                      \r"
     ]
    },
    {
     "name": "stdout",
     "output_type": "stream",
     "text": [
      "runtime = 4.86 seconds\n"
     ]
    },
    {
     "name": "stderr",
     "output_type": "stream",
     "text": [
      "                                                      \r"
     ]
    },
    {
     "name": "stdout",
     "output_type": "stream",
     "text": [
      "runtime = 4.81 seconds\n"
     ]
    },
    {
     "name": "stderr",
     "output_type": "stream",
     "text": [
      "                                                      \r"
     ]
    },
    {
     "name": "stdout",
     "output_type": "stream",
     "text": [
      "runtime = 4.75 seconds\n"
     ]
    },
    {
     "name": "stderr",
     "output_type": "stream",
     "text": [
      "                                                      \r"
     ]
    },
    {
     "name": "stdout",
     "output_type": "stream",
     "text": [
      "runtime = 4.92 seconds\n"
     ]
    },
    {
     "name": "stderr",
     "output_type": "stream",
     "text": [
      "                                                      \r"
     ]
    },
    {
     "name": "stdout",
     "output_type": "stream",
     "text": [
      "runtime = 4.98 seconds\n"
     ]
    },
    {
     "name": "stderr",
     "output_type": "stream",
     "text": [
      "                                                      \r"
     ]
    },
    {
     "name": "stdout",
     "output_type": "stream",
     "text": [
      "runtime = 5.91 seconds\n"
     ]
    },
    {
     "name": "stderr",
     "output_type": "stream",
     "text": [
      "                                                      \r"
     ]
    },
    {
     "name": "stdout",
     "output_type": "stream",
     "text": [
      "runtime = 5.91 seconds\n"
     ]
    },
    {
     "name": "stderr",
     "output_type": "stream",
     "text": [
      "                                                      \r"
     ]
    },
    {
     "name": "stdout",
     "output_type": "stream",
     "text": [
      "runtime = 5.95 seconds\n"
     ]
    },
    {
     "name": "stderr",
     "output_type": "stream",
     "text": [
      "                                                      \r"
     ]
    },
    {
     "name": "stdout",
     "output_type": "stream",
     "text": [
      "runtime = 5.93 seconds\n"
     ]
    },
    {
     "name": "stderr",
     "output_type": "stream",
     "text": [
      "                                                      \r"
     ]
    },
    {
     "name": "stdout",
     "output_type": "stream",
     "text": [
      "runtime = 5.82 seconds\n"
     ]
    },
    {
     "name": "stderr",
     "output_type": "stream",
     "text": [
      "                                                      \r"
     ]
    },
    {
     "name": "stdout",
     "output_type": "stream",
     "text": [
      "runtime = 5.92 seconds\n"
     ]
    },
    {
     "name": "stderr",
     "output_type": "stream",
     "text": [
      "                                                      \r"
     ]
    },
    {
     "name": "stdout",
     "output_type": "stream",
     "text": [
      "runtime = 5.93 seconds\n"
     ]
    },
    {
     "name": "stderr",
     "output_type": "stream",
     "text": [
      "                                                      \r"
     ]
    },
    {
     "name": "stdout",
     "output_type": "stream",
     "text": [
      "runtime = 5.84 seconds\n"
     ]
    },
    {
     "name": "stderr",
     "output_type": "stream",
     "text": [
      "                                                      \r"
     ]
    },
    {
     "name": "stdout",
     "output_type": "stream",
     "text": [
      "runtime = 5.97 seconds\n"
     ]
    },
    {
     "name": "stderr",
     "output_type": "stream",
     "text": [
      "                                                      \r"
     ]
    },
    {
     "name": "stdout",
     "output_type": "stream",
     "text": [
      "runtime = 5.64 seconds\n"
     ]
    },
    {
     "name": "stderr",
     "output_type": "stream",
     "text": [
      "                                                      \r"
     ]
    },
    {
     "name": "stdout",
     "output_type": "stream",
     "text": [
      "runtime = 5.65 seconds\n"
     ]
    },
    {
     "name": "stderr",
     "output_type": "stream",
     "text": [
      "                                                      \r"
     ]
    },
    {
     "name": "stdout",
     "output_type": "stream",
     "text": [
      "runtime = 5.73 seconds\n"
     ]
    },
    {
     "name": "stderr",
     "output_type": "stream",
     "text": [
      "                                                      \r"
     ]
    },
    {
     "name": "stdout",
     "output_type": "stream",
     "text": [
      "runtime = 5.76 seconds\n"
     ]
    },
    {
     "name": "stderr",
     "output_type": "stream",
     "text": [
      "                                                      \r"
     ]
    },
    {
     "name": "stdout",
     "output_type": "stream",
     "text": [
      "runtime = 5.87 seconds\n"
     ]
    },
    {
     "name": "stderr",
     "output_type": "stream",
     "text": [
      "                                                      \r"
     ]
    },
    {
     "name": "stdout",
     "output_type": "stream",
     "text": [
      "runtime = 5.78 seconds\n"
     ]
    },
    {
     "name": "stderr",
     "output_type": "stream",
     "text": [
      "                                                      \r"
     ]
    },
    {
     "name": "stdout",
     "output_type": "stream",
     "text": [
      "runtime = 5.90 seconds\n"
     ]
    },
    {
     "name": "stderr",
     "output_type": "stream",
     "text": [
      "                                                      \r"
     ]
    },
    {
     "name": "stdout",
     "output_type": "stream",
     "text": [
      "runtime = 5.90 seconds\n"
     ]
    },
    {
     "name": "stderr",
     "output_type": "stream",
     "text": [
      "                                                      \r"
     ]
    },
    {
     "name": "stdout",
     "output_type": "stream",
     "text": [
      "runtime = 5.67 seconds\n"
     ]
    },
    {
     "name": "stderr",
     "output_type": "stream",
     "text": [
      "                                                      \r"
     ]
    },
    {
     "name": "stdout",
     "output_type": "stream",
     "text": [
      "runtime = 5.76 seconds\n"
     ]
    },
    {
     "name": "stderr",
     "output_type": "stream",
     "text": [
      "/Users/aaron/Projects/bettermdptools/bettermdptools/lib/python3.11/site-packages/gymnasium/utils/passive_env_checker.py:233: DeprecationWarning: `np.bool8` is a deprecated alias for `np.bool_`.  (Deprecated NumPy 1.24)\n",
      "  if not isinstance(terminated, (bool, np.bool8)):\n"
     ]
    },
    {
     "name": "stdout",
     "output_type": "stream",
     "text": [
      "runtime = 5.64 seconds\n",
      "runtime = 0.01 seconds\n",
      "runtime = 0.01 seconds\n",
      "runtime = 0.01 seconds\n",
      "runtime = 0.01 seconds\n",
      "runtime = 0.01 seconds\n",
      "runtime = 0.02 seconds\n",
      "runtime = 0.01 seconds\n",
      "runtime = 0.01 seconds\n",
      "runtime = 0.01 seconds\n",
      "runtime = 0.01 seconds\n",
      "runtime = 0.01 seconds\n",
      "runtime = 0.01 seconds\n",
      "runtime = 0.01 seconds\n",
      "runtime = 0.01 seconds\n",
      "runtime = 0.01 seconds\n",
      "runtime = 0.01 seconds\n",
      "runtime = 0.01 seconds\n",
      "runtime = 0.01 seconds\n",
      "runtime = 0.01 seconds\n",
      "runtime = 0.01 seconds\n",
      "runtime = 0.01 seconds\n",
      "runtime = 0.01 seconds\n",
      "runtime = 0.01 seconds\n",
      "runtime = 0.01 seconds\n",
      "runtime = 0.01 seconds\n",
      "runtime = 0.01 seconds\n",
      "runtime = 0.01 seconds\n",
      "runtime = 0.01 seconds\n",
      "runtime = 0.01 seconds\n",
      "runtime = 0.01 seconds\n",
      "runtime = 0.01 seconds\n",
      "runtime = 0.01 seconds\n",
      "runtime = 0.01 seconds\n",
      "runtime = 0.01 seconds\n",
      "runtime = 0.01 seconds\n",
      "runtime = 0.01 seconds\n",
      "runtime = 0.01 seconds\n",
      "runtime = 0.01 seconds\n",
      "runtime = 0.01 seconds\n",
      "runtime = 0.01 seconds\n",
      "runtime = 0.02 seconds\n",
      "runtime = 0.02 seconds\n",
      "runtime = 0.02 seconds\n",
      "runtime = 0.02 seconds\n",
      "runtime = 0.02 seconds\n",
      "runtime = 0.02 seconds\n",
      "runtime = 0.02 seconds\n",
      "runtime = 0.02 seconds\n",
      "runtime = 0.02 seconds\n",
      "runtime = 0.02 seconds\n",
      "runtime = 0.02 seconds\n",
      "runtime = 0.02 seconds\n",
      "runtime = 0.02 seconds\n",
      "runtime = 0.02 seconds\n",
      "runtime = 0.02 seconds\n",
      "runtime = 0.02 seconds\n",
      "runtime = 0.02 seconds\n",
      "runtime = 0.02 seconds\n",
      "runtime = 0.02 seconds\n",
      "runtime = 0.02 seconds\n",
      "runtime = 0.02 seconds\n",
      "runtime = 0.02 seconds\n",
      "runtime = 0.02 seconds\n",
      "runtime = 0.02 seconds\n",
      "runtime = 0.02 seconds\n",
      "runtime = 0.02 seconds\n",
      "runtime = 0.02 seconds\n",
      "runtime = 0.02 seconds\n",
      "runtime = 0.02 seconds\n",
      "runtime = 0.02 seconds\n",
      "runtime = 0.02 seconds\n",
      "runtime = 0.02 seconds\n",
      "runtime = 0.02 seconds\n",
      "runtime = 0.02 seconds\n",
      "runtime = 0.02 seconds\n",
      "runtime = 0.02 seconds\n",
      "runtime = 0.02 seconds\n",
      "runtime = 0.02 seconds\n",
      "runtime = 0.02 seconds\n",
      "runtime = 0.02 seconds\n"
     ]
    },
    {
     "name": "stderr",
     "output_type": "stream",
     "text": [
      "  3%|▎         | 348/10000 [00:00<00:02, 3478.82it/s]/Users/aaron/Projects/bettermdptools/bettermdptools/algorithms/rl.py:179: UserWarning: Episode was truncated.  Bootstrapping 0 reward.\n",
      "  warnings.warn(\"Episode was truncated.  Bootstrapping 0 reward.\")\n",
      "                                                      \r"
     ]
    },
    {
     "name": "stdout",
     "output_type": "stream",
     "text": [
      "runtime = 11.19 seconds\n"
     ]
    },
    {
     "name": "stderr",
     "output_type": "stream",
     "text": [
      "                                                      \r"
     ]
    },
    {
     "name": "stdout",
     "output_type": "stream",
     "text": [
      "runtime = 11.19 seconds\n"
     ]
    },
    {
     "name": "stderr",
     "output_type": "stream",
     "text": [
      "                                                      \r"
     ]
    },
    {
     "name": "stdout",
     "output_type": "stream",
     "text": [
      "runtime = 11.21 seconds\n"
     ]
    },
    {
     "name": "stderr",
     "output_type": "stream",
     "text": [
      "                                                      \r"
     ]
    },
    {
     "name": "stdout",
     "output_type": "stream",
     "text": [
      "runtime = 11.23 seconds\n"
     ]
    },
    {
     "name": "stderr",
     "output_type": "stream",
     "text": [
      "                                                      \r"
     ]
    },
    {
     "name": "stdout",
     "output_type": "stream",
     "text": [
      "runtime = 11.27 seconds\n"
     ]
    },
    {
     "name": "stderr",
     "output_type": "stream",
     "text": [
      "                                                      \r"
     ]
    },
    {
     "name": "stdout",
     "output_type": "stream",
     "text": [
      "runtime = 11.24 seconds\n"
     ]
    },
    {
     "name": "stderr",
     "output_type": "stream",
     "text": [
      "                                                      \r"
     ]
    },
    {
     "name": "stdout",
     "output_type": "stream",
     "text": [
      "runtime = 11.27 seconds\n"
     ]
    },
    {
     "name": "stderr",
     "output_type": "stream",
     "text": [
      "                                                      \r"
     ]
    },
    {
     "name": "stdout",
     "output_type": "stream",
     "text": [
      "runtime = 11.17 seconds\n"
     ]
    },
    {
     "name": "stderr",
     "output_type": "stream",
     "text": [
      "                                                      \r"
     ]
    },
    {
     "name": "stdout",
     "output_type": "stream",
     "text": [
      "runtime = 11.21 seconds\n"
     ]
    },
    {
     "name": "stderr",
     "output_type": "stream",
     "text": [
      "                                                      \r"
     ]
    },
    {
     "name": "stdout",
     "output_type": "stream",
     "text": [
      "runtime = 11.25 seconds\n"
     ]
    },
    {
     "name": "stderr",
     "output_type": "stream",
     "text": [
      "                                                      \r"
     ]
    },
    {
     "name": "stdout",
     "output_type": "stream",
     "text": [
      "runtime = 11.24 seconds\n"
     ]
    },
    {
     "name": "stderr",
     "output_type": "stream",
     "text": [
      "                                                      \r"
     ]
    },
    {
     "name": "stdout",
     "output_type": "stream",
     "text": [
      "runtime = 11.16 seconds\n"
     ]
    },
    {
     "name": "stderr",
     "output_type": "stream",
     "text": [
      "                                                      \r"
     ]
    },
    {
     "name": "stdout",
     "output_type": "stream",
     "text": [
      "runtime = 11.21 seconds\n"
     ]
    },
    {
     "name": "stderr",
     "output_type": "stream",
     "text": [
      "                                                      \r"
     ]
    },
    {
     "name": "stdout",
     "output_type": "stream",
     "text": [
      "runtime = 11.18 seconds\n"
     ]
    },
    {
     "name": "stderr",
     "output_type": "stream",
     "text": [
      "                                                      \r"
     ]
    },
    {
     "name": "stdout",
     "output_type": "stream",
     "text": [
      "runtime = 11.24 seconds\n"
     ]
    },
    {
     "name": "stderr",
     "output_type": "stream",
     "text": [
      "                                                      \r"
     ]
    },
    {
     "name": "stdout",
     "output_type": "stream",
     "text": [
      "runtime = 11.24 seconds\n"
     ]
    },
    {
     "name": "stderr",
     "output_type": "stream",
     "text": [
      "                                                      \r"
     ]
    },
    {
     "name": "stdout",
     "output_type": "stream",
     "text": [
      "runtime = 11.18 seconds\n"
     ]
    },
    {
     "name": "stderr",
     "output_type": "stream",
     "text": [
      "                                                      \r"
     ]
    },
    {
     "name": "stdout",
     "output_type": "stream",
     "text": [
      "runtime = 11.27 seconds\n"
     ]
    },
    {
     "name": "stderr",
     "output_type": "stream",
     "text": [
      "                                                      \r"
     ]
    },
    {
     "name": "stdout",
     "output_type": "stream",
     "text": [
      "runtime = 11.13 seconds\n"
     ]
    },
    {
     "name": "stderr",
     "output_type": "stream",
     "text": [
      "                                                      \r"
     ]
    },
    {
     "name": "stdout",
     "output_type": "stream",
     "text": [
      "runtime = 11.15 seconds\n"
     ]
    },
    {
     "name": "stderr",
     "output_type": "stream",
     "text": [
      "                                                      \r"
     ]
    },
    {
     "name": "stdout",
     "output_type": "stream",
     "text": [
      "runtime = 12.73 seconds\n"
     ]
    },
    {
     "name": "stderr",
     "output_type": "stream",
     "text": [
      "                                                      \r"
     ]
    },
    {
     "name": "stdout",
     "output_type": "stream",
     "text": [
      "runtime = 12.51 seconds\n"
     ]
    },
    {
     "name": "stderr",
     "output_type": "stream",
     "text": [
      "                                                      \r"
     ]
    },
    {
     "name": "stdout",
     "output_type": "stream",
     "text": [
      "runtime = 12.65 seconds\n"
     ]
    },
    {
     "name": "stderr",
     "output_type": "stream",
     "text": [
      "                                                      \r"
     ]
    },
    {
     "name": "stdout",
     "output_type": "stream",
     "text": [
      "runtime = 12.59 seconds\n"
     ]
    },
    {
     "name": "stderr",
     "output_type": "stream",
     "text": [
      "                                                      \r"
     ]
    },
    {
     "name": "stdout",
     "output_type": "stream",
     "text": [
      "runtime = 12.45 seconds\n"
     ]
    },
    {
     "name": "stderr",
     "output_type": "stream",
     "text": [
      "                                                      \r"
     ]
    },
    {
     "name": "stdout",
     "output_type": "stream",
     "text": [
      "runtime = 12.49 seconds\n"
     ]
    },
    {
     "name": "stderr",
     "output_type": "stream",
     "text": [
      "                                                      \r"
     ]
    },
    {
     "name": "stdout",
     "output_type": "stream",
     "text": [
      "runtime = 12.66 seconds\n"
     ]
    },
    {
     "name": "stderr",
     "output_type": "stream",
     "text": [
      "                                                      \r"
     ]
    },
    {
     "name": "stdout",
     "output_type": "stream",
     "text": [
      "runtime = 12.88 seconds\n"
     ]
    },
    {
     "name": "stderr",
     "output_type": "stream",
     "text": [
      "                                                      \r"
     ]
    },
    {
     "name": "stdout",
     "output_type": "stream",
     "text": [
      "runtime = 12.90 seconds\n"
     ]
    },
    {
     "name": "stderr",
     "output_type": "stream",
     "text": [
      "                                                      \r"
     ]
    },
    {
     "name": "stdout",
     "output_type": "stream",
     "text": [
      "runtime = 12.71 seconds\n"
     ]
    },
    {
     "name": "stderr",
     "output_type": "stream",
     "text": [
      "                                                      \r"
     ]
    },
    {
     "name": "stdout",
     "output_type": "stream",
     "text": [
      "runtime = 12.70 seconds\n"
     ]
    },
    {
     "name": "stderr",
     "output_type": "stream",
     "text": [
      "                                                      \r"
     ]
    },
    {
     "name": "stdout",
     "output_type": "stream",
     "text": [
      "runtime = 12.91 seconds\n"
     ]
    },
    {
     "name": "stderr",
     "output_type": "stream",
     "text": [
      "                                                      \r"
     ]
    },
    {
     "name": "stdout",
     "output_type": "stream",
     "text": [
      "runtime = 12.72 seconds\n"
     ]
    },
    {
     "name": "stderr",
     "output_type": "stream",
     "text": [
      "                                                      \r"
     ]
    },
    {
     "name": "stdout",
     "output_type": "stream",
     "text": [
      "runtime = 12.69 seconds\n"
     ]
    },
    {
     "name": "stderr",
     "output_type": "stream",
     "text": [
      "                                                      \r"
     ]
    },
    {
     "name": "stdout",
     "output_type": "stream",
     "text": [
      "runtime = 12.79 seconds\n"
     ]
    },
    {
     "name": "stderr",
     "output_type": "stream",
     "text": [
      "                                                      \r"
     ]
    },
    {
     "name": "stdout",
     "output_type": "stream",
     "text": [
      "runtime = 12.66 seconds\n"
     ]
    },
    {
     "name": "stderr",
     "output_type": "stream",
     "text": [
      "                                                      \r"
     ]
    },
    {
     "name": "stdout",
     "output_type": "stream",
     "text": [
      "runtime = 12.70 seconds\n"
     ]
    },
    {
     "name": "stderr",
     "output_type": "stream",
     "text": [
      "                                                      \r"
     ]
    },
    {
     "name": "stdout",
     "output_type": "stream",
     "text": [
      "runtime = 12.72 seconds\n"
     ]
    },
    {
     "name": "stderr",
     "output_type": "stream",
     "text": [
      "                                                      \r"
     ]
    },
    {
     "name": "stdout",
     "output_type": "stream",
     "text": [
      "runtime = 12.78 seconds\n"
     ]
    },
    {
     "name": "stderr",
     "output_type": "stream",
     "text": [
      "                                                      \r"
     ]
    },
    {
     "name": "stdout",
     "output_type": "stream",
     "text": [
      "runtime = 12.86 seconds\n"
     ]
    }
   ],
   "source": [
    "import numpy as np\n",
    "import pandas as pd\n",
    "import gymnasium as gym\n",
    "from time import time\n",
    "from bettermdptools.utils.test_env import TestEnv\n",
    "from bettermdptools.algorithms.rl import RL\n",
    "from bettermdptools.algorithms.planner import Planner\n",
    "\n",
    "from grid_search2 import set_seed, check_convergence, check_ql_convergence\n",
    "\n",
    "# Constants\n",
    "ENVIRONMENTS = [\"FrozenLake8x8-v1\", \"FrozenLake16x16-v1\"]\n",
    "SLIPPERY_STATES = [True, False]\n",
    "ALGORITHMS = [\"VI\", \"PI\", \"QL\"]\n",
    "CV_JOBS = 20\n",
    "SEED = 666\n",
    "N_ITERATIONS = 10000\n",
    "\n",
    "\n",
    "def run_algorithm(env, algo_name, config, n_episodes=100):\n",
    "    \"\"\"Run specified algorithm and configuration on the environment\"\"\"\n",
    "    set_seed(SEED)\n",
    "    start_time = time()\n",
    "\n",
    "    if algo_name in [\"VI\", \"PI\"]:\n",
    "        planner = Planner(env.P)\n",
    "        if algo_name == \"VI\":\n",
    "            V, V_track, pi = planner.value_iteration(**config)\n",
    "        else:\n",
    "            V, V_track, pi = planner.policy_iteration(**config)\n",
    "        iterations_to_converge = check_convergence(V_track)\n",
    "    else:  # QL\n",
    "        agent = RL(env)\n",
    "        Q, V, pi, Q_track, pi_track = agent.q_learning(**config)\n",
    "        iterations_to_converge = check_ql_convergence(Q_track)\n",
    "\n",
    "    runtime = time() - start_time\n",
    "    episode_rewards = TestEnv.test_env(env=env, n_iters=n_episodes, pi=pi)\n",
    "    cumulative_score = np.sum(episode_rewards)\n",
    "\n",
    "    return cumulative_score, runtime, iterations_to_converge\n",
    "\n",
    "\n",
    "def load_hyperparameters(env_name, algo_name):\n",
    "    \"\"\"Load the best configuration from grid search results\"\"\"\n",
    "    df = pd.read_csv(f\"results2/{env_name}/{algo_name}_grid_search_results.csv\")\n",
    "    df.sort_values(by=\"cumulative_score\", ascending=False, inplace=True)\n",
    "    best_config = df.iloc[0].to_dict()\n",
    "\n",
    "\n",
    "    for col in [\"cumulative_score\", \"runtime\", \"iterations_to_converge\"]:\n",
    "        best_config.pop(col, None)\n",
    "\n",
    "    \n",
    "    n_iters = best_config.get(\"n_episodes\", best_config.get(\"n_iters\", N_ITERATIONS))\n",
    "    best_config[\"n_episodes\" if \"n_episodes\" in best_config else \"n_iters\"] = n_iters\n",
    "    return best_config\n",
    "\n",
    "\n",
    "def experiment():\n",
    "    results = []\n",
    "    env_configs = [\"FrozenLake8x8-v1\", \"FrozenLake16x16-v1\"]\n",
    "    slippery_states = [True, False]\n",
    "    algorithms = [\"VI\", \"PI\", \"QL\"]\n",
    "\n",
    "    for env_name in env_configs:\n",
    "        for slippery in slippery_states:\n",
    "            env = gym.make(env_name, is_slippery=slippery)\n",
    "\n",
    "            for algo_name in algorithms:\n",
    "                optimized_config = load_hyperparameters(env_name, algo_name)\n",
    "                n_iters = optimized_config.get(\n",
    "                    \"n_episodes\", optimized_config.get(\"n_iters\", N_ITERATIONS)\n",
    "                )\n",
    "                baseline_config = {\n",
    "                    \"n_episodes\" if algo_name == \"QL\" else \"n_iters\": n_iters\n",
    "                }\n",
    "\n",
    "                for config_name, config in [\n",
    "                    (\"baseline\", baseline_config),\n",
    "                    (\"optimized\", optimized_config),\n",
    "                ]:\n",
    "                    cumulative_scores, runtimes, convergence_iters = [], [], []\n",
    "\n",
    "                    for _ in range(CV_JOBS):\n",
    "                        score, runtime, convergence = run_algorithm(\n",
    "                            env, algo_name, config\n",
    "                        )\n",
    "                        cumulative_scores.append(score)\n",
    "                        runtimes.append(runtime)\n",
    "                        convergence_iters.append(convergence)\n",
    "\n",
    "                    results.append(\n",
    "                        {\n",
    "                            \"environment\": env_name,\n",
    "                            \"is_slippery\": slippery,\n",
    "                            \"algorithm\": algo_name,\n",
    "                            \"configuration\": config_name,\n",
    "                            \"average_score\": np.mean(cumulative_scores),\n",
    "                            \"std_dev_score\": np.std(cumulative_scores),\n",
    "                            \"average_runtime\": np.mean(runtimes),\n",
    "                            \"std_dev_runtime\": np.std(runtimes),\n",
    "                            \"average_convergence\": np.mean(convergence_iters),\n",
    "                            \"std_dev_convergence\": np.std(convergence_iters),\n",
    "                        }\n",
    "                    )\n",
    "\n",
    "    return pd.DataFrame(results)\n",
    "\n",
    "\n",
    "if __name__ == \"__main__\":\n",
    "    # Run experiment and save results\n",
    "    # results_df = experiment()\n",
    "\n",
    "    results = []\n",
    "    env_configs = [\"FrozenLake8x8-v1\", \"FrozenLake16x16-v1\"]\n",
    "    slippery_states = [True, False]\n",
    "    algorithms = [\"VI\", \"PI\", \"QL\"]\n",
    "\n",
    "    for env_name in env_configs:\n",
    "        for slippery in slippery_states:\n",
    "            env = gym.make(env_name, is_slippery=slippery)\n",
    "\n",
    "            for algo_name in algorithms:\n",
    "                optimized_config = load_hyperparameters(env_name, algo_name)\n",
    "                n_iters = int(\n",
    "                    optimized_config.get(\n",
    "                        \"n_episodes\", optimized_config.get(\"n_iters\", N_ITERATIONS)\n",
    "                    )\n",
    "                )\n",
    "                optimized_config[\"n_episodes\" if algo_name == \"QL\" else \"n_iters\"] = (\n",
    "                    n_iters\n",
    "                )\n",
    "                baseline_config = {\n",
    "                    \"n_episodes\" if algo_name == \"QL\" else \"n_iters\": n_iters\n",
    "                }\n",
    "\n",
    "                for config_name, config in [\n",
    "                    (\"baseline\", baseline_config),\n",
    "                    (\"optimized\", optimized_config),\n",
    "                ]:\n",
    "                    cumulative_scores, runtimes, convergence_iters = [], [], []\n",
    "\n",
    "                    for _ in range(CV_JOBS):\n",
    "                        score, runtime, convergence = run_algorithm(\n",
    "                            env, algo_name, config\n",
    "                        )\n",
    "                        cumulative_scores.append(score)\n",
    "                        runtimes.append(runtime)\n",
    "                        convergence_iters.append(convergence)\n",
    "\n",
    "                    results.append(\n",
    "                        {\n",
    "                            \"environment\": env_name,\n",
    "                            \"is_slippery\": slippery,\n",
    "                            \"algorithm\": algo_name,\n",
    "                            \"configuration\": config_name,\n",
    "                            \"average_score\": np.mean(cumulative_scores),\n",
    "                            \"std_dev_score\": np.std(cumulative_scores),\n",
    "                            \"average_runtime\": np.mean(runtimes),\n",
    "                            \"std_dev_runtime\": np.std(runtimes),\n",
    "                            \"average_convergence\": np.mean(convergence_iters),\n",
    "                            \"std_dev_convergence\": np.std(convergence_iters),\n",
    "                        }\n",
    "                    )\n",
    "\n",
    "    results_df = pd.DataFrame(results)\n",
    "\n",
    "    results_df.to_csv(\"stochasticity_results.csv\", index=False)"
   ]
  },
  {
   "cell_type": "code",
   "execution_count": 10,
   "metadata": {},
   "outputs": [
    {
     "data": {
      "text/html": [
       "<div>\n",
       "<style scoped>\n",
       "    .dataframe tbody tr th:only-of-type {\n",
       "        vertical-align: middle;\n",
       "    }\n",
       "\n",
       "    .dataframe tbody tr th {\n",
       "        vertical-align: top;\n",
       "    }\n",
       "\n",
       "    .dataframe thead th {\n",
       "        text-align: right;\n",
       "    }\n",
       "</style>\n",
       "<table border=\"1\" class=\"dataframe\">\n",
       "  <thead>\n",
       "    <tr style=\"text-align: right;\">\n",
       "      <th></th>\n",
       "      <th>environment</th>\n",
       "      <th>is_slippery</th>\n",
       "      <th>algorithm</th>\n",
       "      <th>configuration</th>\n",
       "      <th>average_score</th>\n",
       "      <th>std_dev_score</th>\n",
       "      <th>average_runtime</th>\n",
       "      <th>std_dev_runtime</th>\n",
       "      <th>average_convergence</th>\n",
       "      <th>std_dev_convergence</th>\n",
       "    </tr>\n",
       "  </thead>\n",
       "  <tbody>\n",
       "    <tr>\n",
       "      <th>0</th>\n",
       "      <td>FrozenLake8x8-v1</td>\n",
       "      <td>True</td>\n",
       "      <td>VI</td>\n",
       "      <td>baseline</td>\n",
       "      <td>88.40</td>\n",
       "      <td>2.782086</td>\n",
       "      <td>0.400669</td>\n",
       "      <td>0.004733</td>\n",
       "      <td>467.0</td>\n",
       "      <td>0.0</td>\n",
       "    </tr>\n",
       "    <tr>\n",
       "      <th>1</th>\n",
       "      <td>FrozenLake8x8-v1</td>\n",
       "      <td>True</td>\n",
       "      <td>VI</td>\n",
       "      <td>optimized</td>\n",
       "      <td>88.25</td>\n",
       "      <td>4.010923</td>\n",
       "      <td>0.313757</td>\n",
       "      <td>0.004203</td>\n",
       "      <td>467.0</td>\n",
       "      <td>0.0</td>\n",
       "    </tr>\n",
       "    <tr>\n",
       "      <th>2</th>\n",
       "      <td>FrozenLake8x8-v1</td>\n",
       "      <td>True</td>\n",
       "      <td>PI</td>\n",
       "      <td>baseline</td>\n",
       "      <td>87.40</td>\n",
       "      <td>3.679674</td>\n",
       "      <td>0.245451</td>\n",
       "      <td>0.002376</td>\n",
       "      <td>6.0</td>\n",
       "      <td>0.0</td>\n",
       "    </tr>\n",
       "    <tr>\n",
       "      <th>3</th>\n",
       "      <td>FrozenLake8x8-v1</td>\n",
       "      <td>True</td>\n",
       "      <td>PI</td>\n",
       "      <td>optimized</td>\n",
       "      <td>88.35</td>\n",
       "      <td>2.885741</td>\n",
       "      <td>0.118794</td>\n",
       "      <td>0.002254</td>\n",
       "      <td>7.0</td>\n",
       "      <td>0.0</td>\n",
       "    </tr>\n",
       "    <tr>\n",
       "      <th>4</th>\n",
       "      <td>FrozenLake8x8-v1</td>\n",
       "      <td>True</td>\n",
       "      <td>QL</td>\n",
       "      <td>baseline</td>\n",
       "      <td>8.45</td>\n",
       "      <td>25.350493</td>\n",
       "      <td>6.096400</td>\n",
       "      <td>0.383775</td>\n",
       "      <td>1.0</td>\n",
       "      <td>0.0</td>\n",
       "    </tr>\n",
       "    <tr>\n",
       "      <th>5</th>\n",
       "      <td>FrozenLake8x8-v1</td>\n",
       "      <td>True</td>\n",
       "      <td>QL</td>\n",
       "      <td>optimized</td>\n",
       "      <td>13.75</td>\n",
       "      <td>27.863731</td>\n",
       "      <td>7.599329</td>\n",
       "      <td>1.433800</td>\n",
       "      <td>1.0</td>\n",
       "      <td>0.0</td>\n",
       "    </tr>\n",
       "    <tr>\n",
       "      <th>6</th>\n",
       "      <td>FrozenLake8x8-v1</td>\n",
       "      <td>False</td>\n",
       "      <td>VI</td>\n",
       "      <td>baseline</td>\n",
       "      <td>0.00</td>\n",
       "      <td>0.000000</td>\n",
       "      <td>0.002418</td>\n",
       "      <td>0.000142</td>\n",
       "      <td>15.0</td>\n",
       "      <td>0.0</td>\n",
       "    </tr>\n",
       "    <tr>\n",
       "      <th>7</th>\n",
       "      <td>FrozenLake8x8-v1</td>\n",
       "      <td>False</td>\n",
       "      <td>VI</td>\n",
       "      <td>optimized</td>\n",
       "      <td>0.00</td>\n",
       "      <td>0.000000</td>\n",
       "      <td>0.002322</td>\n",
       "      <td>0.000101</td>\n",
       "      <td>15.0</td>\n",
       "      <td>0.0</td>\n",
       "    </tr>\n",
       "    <tr>\n",
       "      <th>8</th>\n",
       "      <td>FrozenLake8x8-v1</td>\n",
       "      <td>False</td>\n",
       "      <td>PI</td>\n",
       "      <td>baseline</td>\n",
       "      <td>0.00</td>\n",
       "      <td>0.000000</td>\n",
       "      <td>0.003207</td>\n",
       "      <td>0.000102</td>\n",
       "      <td>15.0</td>\n",
       "      <td>0.0</td>\n",
       "    </tr>\n",
       "    <tr>\n",
       "      <th>9</th>\n",
       "      <td>FrozenLake8x8-v1</td>\n",
       "      <td>False</td>\n",
       "      <td>PI</td>\n",
       "      <td>optimized</td>\n",
       "      <td>0.00</td>\n",
       "      <td>0.000000</td>\n",
       "      <td>0.003195</td>\n",
       "      <td>0.000085</td>\n",
       "      <td>15.0</td>\n",
       "      <td>0.0</td>\n",
       "    </tr>\n",
       "    <tr>\n",
       "      <th>10</th>\n",
       "      <td>FrozenLake8x8-v1</td>\n",
       "      <td>False</td>\n",
       "      <td>QL</td>\n",
       "      <td>baseline</td>\n",
       "      <td>0.00</td>\n",
       "      <td>0.000000</td>\n",
       "      <td>11.484937</td>\n",
       "      <td>0.083251</td>\n",
       "      <td>1.0</td>\n",
       "      <td>0.0</td>\n",
       "    </tr>\n",
       "    <tr>\n",
       "      <th>11</th>\n",
       "      <td>FrozenLake8x8-v1</td>\n",
       "      <td>False</td>\n",
       "      <td>QL</td>\n",
       "      <td>optimized</td>\n",
       "      <td>0.00</td>\n",
       "      <td>0.000000</td>\n",
       "      <td>11.908231</td>\n",
       "      <td>0.062120</td>\n",
       "      <td>1.0</td>\n",
       "      <td>0.0</td>\n",
       "    </tr>\n",
       "    <tr>\n",
       "      <th>12</th>\n",
       "      <td>FrozenLake16x16-v1</td>\n",
       "      <td>True</td>\n",
       "      <td>VI</td>\n",
       "      <td>baseline</td>\n",
       "      <td>16.80</td>\n",
       "      <td>3.572114</td>\n",
       "      <td>3.857252</td>\n",
       "      <td>0.037216</td>\n",
       "      <td>749.0</td>\n",
       "      <td>0.0</td>\n",
       "    </tr>\n",
       "    <tr>\n",
       "      <th>13</th>\n",
       "      <td>FrozenLake16x16-v1</td>\n",
       "      <td>True</td>\n",
       "      <td>VI</td>\n",
       "      <td>optimized</td>\n",
       "      <td>42.20</td>\n",
       "      <td>5.600000</td>\n",
       "      <td>0.296135</td>\n",
       "      <td>0.004168</td>\n",
       "      <td>145.0</td>\n",
       "      <td>0.0</td>\n",
       "    </tr>\n",
       "    <tr>\n",
       "      <th>14</th>\n",
       "      <td>FrozenLake16x16-v1</td>\n",
       "      <td>True</td>\n",
       "      <td>PI</td>\n",
       "      <td>baseline</td>\n",
       "      <td>16.65</td>\n",
       "      <td>3.664355</td>\n",
       "      <td>6.132559</td>\n",
       "      <td>0.023819</td>\n",
       "      <td>6.0</td>\n",
       "      <td>0.0</td>\n",
       "    </tr>\n",
       "    <tr>\n",
       "      <th>15</th>\n",
       "      <td>FrozenLake16x16-v1</td>\n",
       "      <td>True</td>\n",
       "      <td>PI</td>\n",
       "      <td>optimized</td>\n",
       "      <td>40.40</td>\n",
       "      <td>5.209607</td>\n",
       "      <td>0.462541</td>\n",
       "      <td>0.003388</td>\n",
       "      <td>6.0</td>\n",
       "      <td>0.0</td>\n",
       "    </tr>\n",
       "    <tr>\n",
       "      <th>16</th>\n",
       "      <td>FrozenLake16x16-v1</td>\n",
       "      <td>True</td>\n",
       "      <td>QL</td>\n",
       "      <td>baseline</td>\n",
       "      <td>0.00</td>\n",
       "      <td>0.000000</td>\n",
       "      <td>4.801249</td>\n",
       "      <td>0.058569</td>\n",
       "      <td>1.0</td>\n",
       "      <td>0.0</td>\n",
       "    </tr>\n",
       "    <tr>\n",
       "      <th>17</th>\n",
       "      <td>FrozenLake16x16-v1</td>\n",
       "      <td>True</td>\n",
       "      <td>QL</td>\n",
       "      <td>optimized</td>\n",
       "      <td>0.00</td>\n",
       "      <td>0.000000</td>\n",
       "      <td>5.824420</td>\n",
       "      <td>0.108277</td>\n",
       "      <td>1.0</td>\n",
       "      <td>0.0</td>\n",
       "    </tr>\n",
       "    <tr>\n",
       "      <th>18</th>\n",
       "      <td>FrozenLake16x16-v1</td>\n",
       "      <td>False</td>\n",
       "      <td>VI</td>\n",
       "      <td>baseline</td>\n",
       "      <td>0.00</td>\n",
       "      <td>0.000000</td>\n",
       "      <td>0.014445</td>\n",
       "      <td>0.000404</td>\n",
       "      <td>30.0</td>\n",
       "      <td>0.0</td>\n",
       "    </tr>\n",
       "    <tr>\n",
       "      <th>19</th>\n",
       "      <td>FrozenLake16x16-v1</td>\n",
       "      <td>False</td>\n",
       "      <td>VI</td>\n",
       "      <td>optimized</td>\n",
       "      <td>100.00</td>\n",
       "      <td>0.000000</td>\n",
       "      <td>0.014474</td>\n",
       "      <td>0.000388</td>\n",
       "      <td>30.0</td>\n",
       "      <td>0.0</td>\n",
       "    </tr>\n",
       "    <tr>\n",
       "      <th>20</th>\n",
       "      <td>FrozenLake16x16-v1</td>\n",
       "      <td>False</td>\n",
       "      <td>PI</td>\n",
       "      <td>baseline</td>\n",
       "      <td>0.00</td>\n",
       "      <td>0.000000</td>\n",
       "      <td>0.021600</td>\n",
       "      <td>0.000552</td>\n",
       "      <td>30.0</td>\n",
       "      <td>0.0</td>\n",
       "    </tr>\n",
       "    <tr>\n",
       "      <th>21</th>\n",
       "      <td>FrozenLake16x16-v1</td>\n",
       "      <td>False</td>\n",
       "      <td>PI</td>\n",
       "      <td>optimized</td>\n",
       "      <td>100.00</td>\n",
       "      <td>0.000000</td>\n",
       "      <td>0.021027</td>\n",
       "      <td>0.000296</td>\n",
       "      <td>31.0</td>\n",
       "      <td>0.0</td>\n",
       "    </tr>\n",
       "    <tr>\n",
       "      <th>22</th>\n",
       "      <td>FrozenLake16x16-v1</td>\n",
       "      <td>False</td>\n",
       "      <td>QL</td>\n",
       "      <td>baseline</td>\n",
       "      <td>0.00</td>\n",
       "      <td>0.000000</td>\n",
       "      <td>11.211637</td>\n",
       "      <td>0.040227</td>\n",
       "      <td>1.0</td>\n",
       "      <td>0.0</td>\n",
       "    </tr>\n",
       "    <tr>\n",
       "      <th>23</th>\n",
       "      <td>FrozenLake16x16-v1</td>\n",
       "      <td>False</td>\n",
       "      <td>QL</td>\n",
       "      <td>optimized</td>\n",
       "      <td>0.00</td>\n",
       "      <td>0.000000</td>\n",
       "      <td>12.704576</td>\n",
       "      <td>0.126777</td>\n",
       "      <td>1.0</td>\n",
       "      <td>0.0</td>\n",
       "    </tr>\n",
       "  </tbody>\n",
       "</table>\n",
       "</div>"
      ],
      "text/plain": [
       "           environment  is_slippery algorithm configuration  average_score  \\\n",
       "0     FrozenLake8x8-v1         True        VI      baseline          88.40   \n",
       "1     FrozenLake8x8-v1         True        VI     optimized          88.25   \n",
       "2     FrozenLake8x8-v1         True        PI      baseline          87.40   \n",
       "3     FrozenLake8x8-v1         True        PI     optimized          88.35   \n",
       "4     FrozenLake8x8-v1         True        QL      baseline           8.45   \n",
       "5     FrozenLake8x8-v1         True        QL     optimized          13.75   \n",
       "6     FrozenLake8x8-v1        False        VI      baseline           0.00   \n",
       "7     FrozenLake8x8-v1        False        VI     optimized           0.00   \n",
       "8     FrozenLake8x8-v1        False        PI      baseline           0.00   \n",
       "9     FrozenLake8x8-v1        False        PI     optimized           0.00   \n",
       "10    FrozenLake8x8-v1        False        QL      baseline           0.00   \n",
       "11    FrozenLake8x8-v1        False        QL     optimized           0.00   \n",
       "12  FrozenLake16x16-v1         True        VI      baseline          16.80   \n",
       "13  FrozenLake16x16-v1         True        VI     optimized          42.20   \n",
       "14  FrozenLake16x16-v1         True        PI      baseline          16.65   \n",
       "15  FrozenLake16x16-v1         True        PI     optimized          40.40   \n",
       "16  FrozenLake16x16-v1         True        QL      baseline           0.00   \n",
       "17  FrozenLake16x16-v1         True        QL     optimized           0.00   \n",
       "18  FrozenLake16x16-v1        False        VI      baseline           0.00   \n",
       "19  FrozenLake16x16-v1        False        VI     optimized         100.00   \n",
       "20  FrozenLake16x16-v1        False        PI      baseline           0.00   \n",
       "21  FrozenLake16x16-v1        False        PI     optimized         100.00   \n",
       "22  FrozenLake16x16-v1        False        QL      baseline           0.00   \n",
       "23  FrozenLake16x16-v1        False        QL     optimized           0.00   \n",
       "\n",
       "    std_dev_score  average_runtime  std_dev_runtime  average_convergence  \\\n",
       "0        2.782086         0.400669         0.004733                467.0   \n",
       "1        4.010923         0.313757         0.004203                467.0   \n",
       "2        3.679674         0.245451         0.002376                  6.0   \n",
       "3        2.885741         0.118794         0.002254                  7.0   \n",
       "4       25.350493         6.096400         0.383775                  1.0   \n",
       "5       27.863731         7.599329         1.433800                  1.0   \n",
       "6        0.000000         0.002418         0.000142                 15.0   \n",
       "7        0.000000         0.002322         0.000101                 15.0   \n",
       "8        0.000000         0.003207         0.000102                 15.0   \n",
       "9        0.000000         0.003195         0.000085                 15.0   \n",
       "10       0.000000        11.484937         0.083251                  1.0   \n",
       "11       0.000000        11.908231         0.062120                  1.0   \n",
       "12       3.572114         3.857252         0.037216                749.0   \n",
       "13       5.600000         0.296135         0.004168                145.0   \n",
       "14       3.664355         6.132559         0.023819                  6.0   \n",
       "15       5.209607         0.462541         0.003388                  6.0   \n",
       "16       0.000000         4.801249         0.058569                  1.0   \n",
       "17       0.000000         5.824420         0.108277                  1.0   \n",
       "18       0.000000         0.014445         0.000404                 30.0   \n",
       "19       0.000000         0.014474         0.000388                 30.0   \n",
       "20       0.000000         0.021600         0.000552                 30.0   \n",
       "21       0.000000         0.021027         0.000296                 31.0   \n",
       "22       0.000000        11.211637         0.040227                  1.0   \n",
       "23       0.000000        12.704576         0.126777                  1.0   \n",
       "\n",
       "    std_dev_convergence  \n",
       "0                   0.0  \n",
       "1                   0.0  \n",
       "2                   0.0  \n",
       "3                   0.0  \n",
       "4                   0.0  \n",
       "5                   0.0  \n",
       "6                   0.0  \n",
       "7                   0.0  \n",
       "8                   0.0  \n",
       "9                   0.0  \n",
       "10                  0.0  \n",
       "11                  0.0  \n",
       "12                  0.0  \n",
       "13                  0.0  \n",
       "14                  0.0  \n",
       "15                  0.0  \n",
       "16                  0.0  \n",
       "17                  0.0  \n",
       "18                  0.0  \n",
       "19                  0.0  \n",
       "20                  0.0  \n",
       "21                  0.0  \n",
       "22                  0.0  \n",
       "23                  0.0  "
      ]
     },
     "execution_count": 10,
     "metadata": {},
     "output_type": "execute_result"
    }
   ],
   "source": [
    "results_df"
   ]
  },
  {
   "cell_type": "code",
   "execution_count": null,
   "metadata": {},
   "outputs": [],
   "source": []
  }
 ],
 "metadata": {
  "kernelspec": {
   "display_name": "bettermdptools",
   "language": "python",
   "name": "python3"
  },
  "language_info": {
   "codemirror_mode": {
    "name": "ipython",
    "version": 3
   },
   "file_extension": ".py",
   "mimetype": "text/x-python",
   "name": "python",
   "nbconvert_exporter": "python",
   "pygments_lexer": "ipython3",
   "version": "3.11.7"
  }
 },
 "nbformat": 4,
 "nbformat_minor": 2
}
