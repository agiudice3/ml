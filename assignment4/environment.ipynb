{
 "cells": [
  {
   "cell_type": "code",
   "execution_count": 20,
   "metadata": {},
   "outputs": [
    {
     "name": "stdout",
     "output_type": "stream",
     "text": [
      "runtime = 4.01 seconds\n"
     ]
    },
    {
     "name": "stderr",
     "output_type": "stream",
     "text": [
      "/Users/aaron/Projects/bettermdptools/bettermdptools/lib/python3.11/site-packages/gymnasium/utils/passive_env_checker.py:233: DeprecationWarning: `np.bool8` is a deprecated alias for `np.bool_`.  (Deprecated NumPy 1.24)\n",
      "  if not isinstance(terminated, (bool, np.bool8)):\n"
     ]
    },
    {
     "name": "stdout",
     "output_type": "stream",
     "text": [
      "runtime = 4.04 seconds\n",
      "runtime = 0.30 seconds\n",
      "runtime = 0.30 seconds\n",
      "runtime = 6.27 seconds\n",
      "runtime = 3.53 seconds\n",
      "runtime = 0.47 seconds\n",
      "runtime = 1.36 seconds\n"
     ]
    },
    {
     "name": "stderr",
     "output_type": "stream",
     "text": [
      " 12%|█▏        | 1162/10000 [00:00<00:02, 3288.27it/s]/Users/aaron/Projects/bettermdptools/bettermdptools/algorithms/rl.py:179: UserWarning: Episode was truncated.  Bootstrapping 0 reward.\n",
      "  warnings.warn(\"Episode was truncated.  Bootstrapping 0 reward.\")\n",
      "                                                      \r"
     ]
    },
    {
     "name": "stdout",
     "output_type": "stream",
     "text": [
      "runtime = 4.96 seconds\n"
     ]
    },
    {
     "name": "stderr",
     "output_type": "stream",
     "text": [
      "                                                      \r"
     ]
    },
    {
     "name": "stdout",
     "output_type": "stream",
     "text": [
      "runtime = 4.90 seconds\n"
     ]
    },
    {
     "name": "stderr",
     "output_type": "stream",
     "text": [
      "                                                      \r"
     ]
    },
    {
     "name": "stdout",
     "output_type": "stream",
     "text": [
      "runtime = 5.76 seconds\n"
     ]
    },
    {
     "name": "stderr",
     "output_type": "stream",
     "text": [
      "                                                      \r"
     ]
    },
    {
     "name": "stdout",
     "output_type": "stream",
     "text": [
      "runtime = 5.84 seconds\n",
      "runtime = 0.76 seconds\n"
     ]
    },
    {
     "name": "stderr",
     "output_type": "stream",
     "text": [
      "/Users/aaron/Projects/bettermdptools/bettermdptools/lib/python3.11/site-packages/gymnasium/utils/passive_env_checker.py:233: DeprecationWarning: `np.bool8` is a deprecated alias for `np.bool_`.  (Deprecated NumPy 1.24)\n",
      "  if not isinstance(terminated, (bool, np.bool8)):\n"
     ]
    },
    {
     "name": "stdout",
     "output_type": "stream",
     "text": [
      "runtime = 0.77 seconds\n",
      "runtime = 0.27 seconds\n",
      "runtime = 0.27 seconds\n",
      "runtime = 1.32 seconds\n",
      "runtime = 1.00 seconds\n",
      "runtime = 0.37 seconds\n",
      "runtime = 0.46 seconds\n"
     ]
    },
    {
     "name": "stderr",
     "output_type": "stream",
     "text": [
      "  3%|▎         | 345/10000 [00:00<00:02, 3447.73it/s]/Users/aaron/Projects/bettermdptools/bettermdptools/algorithms/rl.py:179: UserWarning: Episode was truncated.  Bootstrapping 0 reward.\n",
      "  warnings.warn(\"Episode was truncated.  Bootstrapping 0 reward.\")\n",
      "                                                      \r"
     ]
    },
    {
     "name": "stdout",
     "output_type": "stream",
     "text": [
      "runtime = 7.08 seconds\n"
     ]
    },
    {
     "name": "stderr",
     "output_type": "stream",
     "text": [
      "                                                      \r"
     ]
    },
    {
     "name": "stdout",
     "output_type": "stream",
     "text": [
      "runtime = 7.04 seconds\n"
     ]
    },
    {
     "name": "stderr",
     "output_type": "stream",
     "text": [
      "                                                      \r"
     ]
    },
    {
     "name": "stdout",
     "output_type": "stream",
     "text": [
      "runtime = 10.21 seconds\n"
     ]
    },
    {
     "name": "stderr",
     "output_type": "stream",
     "text": [
      "                                                      \r"
     ]
    },
    {
     "name": "stdout",
     "output_type": "stream",
     "text": [
      "runtime = 10.01 seconds\n",
      "runtime = 4.71 seconds\n"
     ]
    },
    {
     "name": "stderr",
     "output_type": "stream",
     "text": [
      "/Users/aaron/Projects/bettermdptools/bettermdptools/lib/python3.11/site-packages/gymnasium/utils/passive_env_checker.py:233: DeprecationWarning: `np.bool8` is a deprecated alias for `np.bool_`.  (Deprecated NumPy 1.24)\n",
      "  if not isinstance(terminated, (bool, np.bool8)):\n"
     ]
    },
    {
     "name": "stdout",
     "output_type": "stream",
     "text": [
      "runtime = 4.76 seconds\n",
      "runtime = 0.27 seconds\n",
      "runtime = 0.27 seconds\n",
      "runtime = 4.20 seconds\n",
      "runtime = 3.35 seconds\n",
      "runtime = 1.36 seconds\n",
      "runtime = 1.09 seconds\n"
     ]
    },
    {
     "name": "stderr",
     "output_type": "stream",
     "text": [
      " 10%|▉         | 983/10000 [00:00<00:02, 4307.63it/s]/Users/aaron/Projects/bettermdptools/bettermdptools/algorithms/rl.py:179: UserWarning: Episode was truncated.  Bootstrapping 0 reward.\n",
      "  warnings.warn(\"Episode was truncated.  Bootstrapping 0 reward.\")\n",
      "                                                      \r"
     ]
    },
    {
     "name": "stdout",
     "output_type": "stream",
     "text": [
      "runtime = 4.74 seconds\n"
     ]
    },
    {
     "name": "stderr",
     "output_type": "stream",
     "text": [
      "                                                      \r"
     ]
    },
    {
     "name": "stdout",
     "output_type": "stream",
     "text": [
      "runtime = 4.72 seconds\n"
     ]
    },
    {
     "name": "stderr",
     "output_type": "stream",
     "text": [
      "                                                      \r"
     ]
    },
    {
     "name": "stdout",
     "output_type": "stream",
     "text": [
      "runtime = 5.63 seconds\n"
     ]
    },
    {
     "name": "stderr",
     "output_type": "stream",
     "text": [
      "                                                      "
     ]
    },
    {
     "name": "stdout",
     "output_type": "stream",
     "text": [
      "runtime = 5.64 seconds\n"
     ]
    },
    {
     "name": "stderr",
     "output_type": "stream",
     "text": [
      "\r"
     ]
    }
   ],
   "source": [
    "import time\n",
    "from typing import Dict\n",
    "\n",
    "import numpy as np\n",
    "import scipy.stats as stats\n",
    "import pandas as pd\n",
    "import gymnasium as gym\n",
    "from bettermdptools.utils.test_env import TestEnv\n",
    "from bettermdptools.algorithms.planner import Planner\n",
    "from bettermdptools.algorithms.rl import RL\n",
    "\n",
    "from grid_search2 import set_seed, check_convergence, check_ql_convergence\n",
    "\n",
    "N_ITERATIONS = 10000\n",
    "SEED = 666\n",
    "CV_JOBS = 2\n",
    "\n",
    "\n",
    "def run_algorithm(\n",
    "    env, algo_name: str, params: Dict[str, float] = None, n_episodes: int = 100\n",
    "):\n",
    "    if algo_name in [\"Q-Learning\", \"QL\"]:\n",
    "        agent = RL(env)\n",
    "        start_time = time.time()\n",
    "        Q, V, pi, Q_track, pi_track = agent.q_learning(**params)\n",
    "        runtime = time.time() - start_time\n",
    "        episode_rewards = TestEnv.test_env(env=env, n_iters=n_episodes, pi=pi)\n",
    "        cumulative_score = np.sum(episode_rewards)\n",
    "        iterations_to_converge = check_ql_convergence(Q_track)\n",
    "    elif algo_name in [\"Value Iteration\", \"VI\"]:\n",
    "        planner = Planner(env.P)\n",
    "        start_time = time.time()\n",
    "        V, V_track, pi = planner.value_iteration(**params)\n",
    "        runtime = time.time() - start_time\n",
    "        episode_rewards = TestEnv.test_env(env=env, n_iters=n_episodes, pi=pi)\n",
    "        cumulative_score = np.sum(episode_rewards)\n",
    "        iterations_to_converge = check_convergence(V_track)\n",
    "    elif algo_name in [\"Policy Iteration\", \"PI\"]:\n",
    "        planner = Planner(env.P)\n",
    "        start_time = time.time()\n",
    "        V, V_track, pi = planner.policy_iteration(**params)\n",
    "        runtime = time.time() - start_time\n",
    "        episode_rewards = TestEnv.test_env(env=env, n_iters=n_episodes, pi=pi)\n",
    "        cumulative_score = np.sum(episode_rewards)\n",
    "        iterations_to_converge = check_convergence(V_track)\n",
    "    return cumulative_score, runtime, iterations_to_converge\n",
    "\n",
    "\n",
    "def perform_comparisons(config_results):\n",
    "    comparisons = []\n",
    "    for algo_name in [\"VI\", \"PI\", \"QL\"]:\n",
    "        for config_name in [\"baseline\", \"grid search\"]:\n",
    "            base_scores = config_results[\"FrozenLake16x16-v1\"][\n",
    "                f\"{algo_name}_{config_name}\"\n",
    "            ]\n",
    "            easy_scores = config_results[\"FrozenLake16x16-v1-easy\"][\n",
    "                f\"{algo_name}_{config_name}\"\n",
    "            ]\n",
    "            hard_scores = config_results[\"FrozenLake16x16-v1-hard\"][\n",
    "                f\"{algo_name}_{config_name}\"\n",
    "            ]\n",
    "\n",
    "            t_stat_easy, p_value_easy = stats.ttest_rel(base_scores, easy_scores)\n",
    "            t_stat_hard, p_value_hard = stats.ttest_rel(base_scores, hard_scores)\n",
    "\n",
    "            comparisons.append(\n",
    "                {\n",
    "                    \"algorithm\": algo_name,\n",
    "                    \"configuration\": config_name,\n",
    "                    \"t_stat_easy\": t_stat_easy,\n",
    "                    \"p_value_easy\": p_value_easy,\n",
    "                    \"t_stat_hard\": t_stat_hard,\n",
    "                    \"p_value_hard\": p_value_hard,\n",
    "                    \"base_easy_valid\": p_value_easy < 0.05,\n",
    "                    \"base_hard_valid\": p_value_hard < 0.05,\n",
    "                }\n",
    "            )\n",
    "    return comparisons\n",
    "\n",
    "\n",
    "if __name__ == \"__main__\":\n",
    "    set_seed(SEED)\n",
    "    results = []\n",
    "\n",
    "    env_configs = [\n",
    "        \"FrozenLake16x16-v1\",\n",
    "        \"FrozenLake16x16-v1-easy\",\n",
    "        \"FrozenLake16x16-v1-hard\",\n",
    "    ]\n",
    "    config_results = {env: {} for env in env_configs}\n",
    "\n",
    "    for env_name in env_configs:\n",
    "        env = gym.make(env_name)\n",
    "        for algo_name in [\"VI\", \"PI\", \"QL\"]:\n",
    "            df = pd.read_csv(\n",
    "                f\"results2/FrozenLake16x16-v1/{algo_name}_grid_search_results.csv\"\n",
    "            )\n",
    "            df.sort_values(by=\"cumulative_score\", ascending=False, inplace=True)\n",
    "            best_config = df.iloc[0].to_dict()\n",
    "            n_iters = int(\n",
    "                best_config.get(\"n_episodes\", best_config.get(\"n_iters\", N_ITERATIONS))\n",
    "            )\n",
    "\n",
    "            for config_name in [\"baseline\", \"grid search\"]:\n",
    "                scores = []\n",
    "                runtimes = []\n",
    "                iterations = []\n",
    "\n",
    "                for _ in range(CV_JOBS):\n",
    "                    if config_name == \"baseline\":\n",
    "                        config = {\n",
    "                            (\n",
    "                                \"n_episodes\"\n",
    "                                if \"n_episodes\" in best_config\n",
    "                                else \"n_iters\"\n",
    "                            ): n_iters\n",
    "                        }\n",
    "                    else:\n",
    "                        config = best_config.copy()\n",
    "                        config.pop(\"cumulative_score\", None)\n",
    "                        config.pop(\"runtime\", None)\n",
    "                        config.pop(\"iterations_to_converge\", None)\n",
    "                        config[\n",
    "                            \"n_episodes\" if \"n_episodes\" in best_config else \"n_iters\"\n",
    "                        ] = n_iters\n",
    "\n",
    "                    score, runtime, iters = run_algorithm(env, algo_name, config)\n",
    "                    scores.append(score)\n",
    "                    runtimes.append(runtime)\n",
    "                    iterations.append(iters)\n",
    "\n",
    "\n",
    "                results.append(\n",
    "                    {\n",
    "                        \"environment\": env_name,\n",
    "                        \"algorithm\": algo_name,\n",
    "                        \"configuration\": config_name,\n",
    "                        \"score\": np.mean(scores),\n",
    "                        \"runtime\": np.mean(runtimes),\n",
    "                        \"iterations_to_converge\": np.mean(iterations),\n",
    "                    }\n",
    "                )\n",
    "\n",
    "\n",
    "                config_results[env_name][f\"{algo_name}_{config_name}\"] = scores"
   ]
  },
  {
   "cell_type": "code",
   "execution_count": 21,
   "metadata": {},
   "outputs": [
    {
     "data": {
      "text/html": [
       "<div>\n",
       "<style scoped>\n",
       "    .dataframe tbody tr th:only-of-type {\n",
       "        vertical-align: middle;\n",
       "    }\n",
       "\n",
       "    .dataframe tbody tr th {\n",
       "        vertical-align: top;\n",
       "    }\n",
       "\n",
       "    .dataframe thead th {\n",
       "        text-align: right;\n",
       "    }\n",
       "</style>\n",
       "<table border=\"1\" class=\"dataframe\">\n",
       "  <thead>\n",
       "    <tr style=\"text-align: right;\">\n",
       "      <th></th>\n",
       "      <th>environment</th>\n",
       "      <th>algorithm</th>\n",
       "      <th>configuration</th>\n",
       "      <th>score</th>\n",
       "      <th>runtime</th>\n",
       "      <th>iterations_to_converge</th>\n",
       "    </tr>\n",
       "  </thead>\n",
       "  <tbody>\n",
       "    <tr>\n",
       "      <th>0</th>\n",
       "      <td>FrozenLake16x16-v1</td>\n",
       "      <td>VI</td>\n",
       "      <td>baseline</td>\n",
       "      <td>14.0</td>\n",
       "      <td>4.027508</td>\n",
       "      <td>749.0</td>\n",
       "    </tr>\n",
       "    <tr>\n",
       "      <th>1</th>\n",
       "      <td>FrozenLake16x16-v1</td>\n",
       "      <td>VI</td>\n",
       "      <td>grid search</td>\n",
       "      <td>38.0</td>\n",
       "      <td>0.296763</td>\n",
       "      <td>145.0</td>\n",
       "    </tr>\n",
       "    <tr>\n",
       "      <th>2</th>\n",
       "      <td>FrozenLake16x16-v1</td>\n",
       "      <td>PI</td>\n",
       "      <td>baseline</td>\n",
       "      <td>22.5</td>\n",
       "      <td>4.900278</td>\n",
       "      <td>6.5</td>\n",
       "    </tr>\n",
       "    <tr>\n",
       "      <th>3</th>\n",
       "      <td>FrozenLake16x16-v1</td>\n",
       "      <td>PI</td>\n",
       "      <td>grid search</td>\n",
       "      <td>38.0</td>\n",
       "      <td>0.912331</td>\n",
       "      <td>13.0</td>\n",
       "    </tr>\n",
       "    <tr>\n",
       "      <th>4</th>\n",
       "      <td>FrozenLake16x16-v1</td>\n",
       "      <td>QL</td>\n",
       "      <td>baseline</td>\n",
       "      <td>0.0</td>\n",
       "      <td>4.932331</td>\n",
       "      <td>1.0</td>\n",
       "    </tr>\n",
       "    <tr>\n",
       "      <th>5</th>\n",
       "      <td>FrozenLake16x16-v1</td>\n",
       "      <td>QL</td>\n",
       "      <td>grid search</td>\n",
       "      <td>0.0</td>\n",
       "      <td>5.802924</td>\n",
       "      <td>1.0</td>\n",
       "    </tr>\n",
       "    <tr>\n",
       "      <th>6</th>\n",
       "      <td>FrozenLake16x16-v1-easy</td>\n",
       "      <td>VI</td>\n",
       "      <td>baseline</td>\n",
       "      <td>97.0</td>\n",
       "      <td>0.767266</td>\n",
       "      <td>278.0</td>\n",
       "    </tr>\n",
       "    <tr>\n",
       "      <th>7</th>\n",
       "      <td>FrozenLake16x16-v1-easy</td>\n",
       "      <td>VI</td>\n",
       "      <td>grid search</td>\n",
       "      <td>97.0</td>\n",
       "      <td>0.268095</td>\n",
       "      <td>152.0</td>\n",
       "    </tr>\n",
       "    <tr>\n",
       "      <th>8</th>\n",
       "      <td>FrozenLake16x16-v1-easy</td>\n",
       "      <td>PI</td>\n",
       "      <td>baseline</td>\n",
       "      <td>92.5</td>\n",
       "      <td>1.159251</td>\n",
       "      <td>5.0</td>\n",
       "    </tr>\n",
       "    <tr>\n",
       "      <th>9</th>\n",
       "      <td>FrozenLake16x16-v1-easy</td>\n",
       "      <td>PI</td>\n",
       "      <td>grid search</td>\n",
       "      <td>92.0</td>\n",
       "      <td>0.416291</td>\n",
       "      <td>7.0</td>\n",
       "    </tr>\n",
       "    <tr>\n",
       "      <th>10</th>\n",
       "      <td>FrozenLake16x16-v1-easy</td>\n",
       "      <td>QL</td>\n",
       "      <td>baseline</td>\n",
       "      <td>0.0</td>\n",
       "      <td>7.058923</td>\n",
       "      <td>1.0</td>\n",
       "    </tr>\n",
       "    <tr>\n",
       "      <th>11</th>\n",
       "      <td>FrozenLake16x16-v1-easy</td>\n",
       "      <td>QL</td>\n",
       "      <td>grid search</td>\n",
       "      <td>0.0</td>\n",
       "      <td>10.106562</td>\n",
       "      <td>1.0</td>\n",
       "    </tr>\n",
       "    <tr>\n",
       "      <th>12</th>\n",
       "      <td>FrozenLake16x16-v1-hard</td>\n",
       "      <td>VI</td>\n",
       "      <td>baseline</td>\n",
       "      <td>0.0</td>\n",
       "      <td>4.736050</td>\n",
       "      <td>940.0</td>\n",
       "    </tr>\n",
       "    <tr>\n",
       "      <th>13</th>\n",
       "      <td>FrozenLake16x16-v1-hard</td>\n",
       "      <td>VI</td>\n",
       "      <td>grid search</td>\n",
       "      <td>1.5</td>\n",
       "      <td>0.266093</td>\n",
       "      <td>132.0</td>\n",
       "    </tr>\n",
       "    <tr>\n",
       "      <th>14</th>\n",
       "      <td>FrozenLake16x16-v1-hard</td>\n",
       "      <td>PI</td>\n",
       "      <td>baseline</td>\n",
       "      <td>0.5</td>\n",
       "      <td>3.774187</td>\n",
       "      <td>19.0</td>\n",
       "    </tr>\n",
       "    <tr>\n",
       "      <th>15</th>\n",
       "      <td>FrozenLake16x16-v1-hard</td>\n",
       "      <td>PI</td>\n",
       "      <td>grid search</td>\n",
       "      <td>0.0</td>\n",
       "      <td>1.227007</td>\n",
       "      <td>18.0</td>\n",
       "    </tr>\n",
       "    <tr>\n",
       "      <th>16</th>\n",
       "      <td>FrozenLake16x16-v1-hard</td>\n",
       "      <td>QL</td>\n",
       "      <td>baseline</td>\n",
       "      <td>0.0</td>\n",
       "      <td>4.730410</td>\n",
       "      <td>1.0</td>\n",
       "    </tr>\n",
       "    <tr>\n",
       "      <th>17</th>\n",
       "      <td>FrozenLake16x16-v1-hard</td>\n",
       "      <td>QL</td>\n",
       "      <td>grid search</td>\n",
       "      <td>0.0</td>\n",
       "      <td>5.633029</td>\n",
       "      <td>1.0</td>\n",
       "    </tr>\n",
       "  </tbody>\n",
       "</table>\n",
       "</div>"
      ],
      "text/plain": [
       "                environment algorithm configuration  score    runtime  \\\n",
       "0        FrozenLake16x16-v1        VI      baseline   14.0   4.027508   \n",
       "1        FrozenLake16x16-v1        VI   grid search   38.0   0.296763   \n",
       "2        FrozenLake16x16-v1        PI      baseline   22.5   4.900278   \n",
       "3        FrozenLake16x16-v1        PI   grid search   38.0   0.912331   \n",
       "4        FrozenLake16x16-v1        QL      baseline    0.0   4.932331   \n",
       "5        FrozenLake16x16-v1        QL   grid search    0.0   5.802924   \n",
       "6   FrozenLake16x16-v1-easy        VI      baseline   97.0   0.767266   \n",
       "7   FrozenLake16x16-v1-easy        VI   grid search   97.0   0.268095   \n",
       "8   FrozenLake16x16-v1-easy        PI      baseline   92.5   1.159251   \n",
       "9   FrozenLake16x16-v1-easy        PI   grid search   92.0   0.416291   \n",
       "10  FrozenLake16x16-v1-easy        QL      baseline    0.0   7.058923   \n",
       "11  FrozenLake16x16-v1-easy        QL   grid search    0.0  10.106562   \n",
       "12  FrozenLake16x16-v1-hard        VI      baseline    0.0   4.736050   \n",
       "13  FrozenLake16x16-v1-hard        VI   grid search    1.5   0.266093   \n",
       "14  FrozenLake16x16-v1-hard        PI      baseline    0.5   3.774187   \n",
       "15  FrozenLake16x16-v1-hard        PI   grid search    0.0   1.227007   \n",
       "16  FrozenLake16x16-v1-hard        QL      baseline    0.0   4.730410   \n",
       "17  FrozenLake16x16-v1-hard        QL   grid search    0.0   5.633029   \n",
       "\n",
       "    iterations_to_converge  \n",
       "0                    749.0  \n",
       "1                    145.0  \n",
       "2                      6.5  \n",
       "3                     13.0  \n",
       "4                      1.0  \n",
       "5                      1.0  \n",
       "6                    278.0  \n",
       "7                    152.0  \n",
       "8                      5.0  \n",
       "9                      7.0  \n",
       "10                     1.0  \n",
       "11                     1.0  \n",
       "12                   940.0  \n",
       "13                   132.0  \n",
       "14                    19.0  \n",
       "15                    18.0  \n",
       "16                     1.0  \n",
       "17                     1.0  "
      ]
     },
     "metadata": {},
     "output_type": "display_data"
    },
    {
     "data": {
      "text/html": [
       "<div>\n",
       "<style scoped>\n",
       "    .dataframe tbody tr th:only-of-type {\n",
       "        vertical-align: middle;\n",
       "    }\n",
       "\n",
       "    .dataframe tbody tr th {\n",
       "        vertical-align: top;\n",
       "    }\n",
       "\n",
       "    .dataframe thead th {\n",
       "        text-align: right;\n",
       "    }\n",
       "</style>\n",
       "<table border=\"1\" class=\"dataframe\">\n",
       "  <thead>\n",
       "    <tr style=\"text-align: right;\">\n",
       "      <th></th>\n",
       "      <th>algorithm</th>\n",
       "      <th>configuration</th>\n",
       "      <th>t_stat_easy</th>\n",
       "      <th>p_value_easy</th>\n",
       "      <th>t_stat_hard</th>\n",
       "      <th>p_value_hard</th>\n",
       "      <th>base_easy_valid</th>\n",
       "      <th>base_hard_valid</th>\n",
       "    </tr>\n",
       "  </thead>\n",
       "  <tbody>\n",
       "    <tr>\n",
       "      <th>0</th>\n",
       "      <td>VI</td>\n",
       "      <td>baseline</td>\n",
       "      <td>-41.5</td>\n",
       "      <td>0.015337</td>\n",
       "      <td>4.666667</td>\n",
       "      <td>0.134386</td>\n",
       "      <td>True</td>\n",
       "      <td>False</td>\n",
       "    </tr>\n",
       "    <tr>\n",
       "      <th>1</th>\n",
       "      <td>VI</td>\n",
       "      <td>grid search</td>\n",
       "      <td>-59.0</td>\n",
       "      <td>0.010789</td>\n",
       "      <td>24.333333</td>\n",
       "      <td>0.026148</td>\n",
       "      <td>True</td>\n",
       "      <td>True</td>\n",
       "    </tr>\n",
       "    <tr>\n",
       "      <th>2</th>\n",
       "      <td>PI</td>\n",
       "      <td>baseline</td>\n",
       "      <td>-14.0</td>\n",
       "      <td>0.045396</td>\n",
       "      <td>11.000000</td>\n",
       "      <td>0.057716</td>\n",
       "      <td>True</td>\n",
       "      <td>False</td>\n",
       "    </tr>\n",
       "    <tr>\n",
       "      <th>3</th>\n",
       "      <td>PI</td>\n",
       "      <td>grid search</td>\n",
       "      <td>-54.0</td>\n",
       "      <td>0.011788</td>\n",
       "      <td>19.000000</td>\n",
       "      <td>0.033475</td>\n",
       "      <td>True</td>\n",
       "      <td>True</td>\n",
       "    </tr>\n",
       "    <tr>\n",
       "      <th>4</th>\n",
       "      <td>QL</td>\n",
       "      <td>baseline</td>\n",
       "      <td>NaN</td>\n",
       "      <td>NaN</td>\n",
       "      <td>NaN</td>\n",
       "      <td>NaN</td>\n",
       "      <td>False</td>\n",
       "      <td>False</td>\n",
       "    </tr>\n",
       "    <tr>\n",
       "      <th>5</th>\n",
       "      <td>QL</td>\n",
       "      <td>grid search</td>\n",
       "      <td>NaN</td>\n",
       "      <td>NaN</td>\n",
       "      <td>NaN</td>\n",
       "      <td>NaN</td>\n",
       "      <td>False</td>\n",
       "      <td>False</td>\n",
       "    </tr>\n",
       "  </tbody>\n",
       "</table>\n",
       "</div>"
      ],
      "text/plain": [
       "  algorithm configuration  t_stat_easy  p_value_easy  t_stat_hard  \\\n",
       "0        VI      baseline        -41.5      0.015337     4.666667   \n",
       "1        VI   grid search        -59.0      0.010789    24.333333   \n",
       "2        PI      baseline        -14.0      0.045396    11.000000   \n",
       "3        PI   grid search        -54.0      0.011788    19.000000   \n",
       "4        QL      baseline          NaN           NaN          NaN   \n",
       "5        QL   grid search          NaN           NaN          NaN   \n",
       "\n",
       "   p_value_hard  base_easy_valid  base_hard_valid  \n",
       "0      0.134386             True            False  \n",
       "1      0.026148             True             True  \n",
       "2      0.057716             True            False  \n",
       "3      0.033475             True             True  \n",
       "4           NaN            False            False  \n",
       "5           NaN            False            False  "
      ]
     },
     "metadata": {},
     "output_type": "display_data"
    }
   ],
   "source": [
    "\n",
    "results_df = pd.DataFrame(results)\n",
    "display(results_df)\n",
    "\n",
    "\n",
    "comparisons = perform_comparisons(config_results)\n",
    "comparison_df = pd.DataFrame(comparisons)\n",
    "display(comparison_df)"
   ]
  },
  {
   "cell_type": "code",
   "execution_count": null,
   "metadata": {},
   "outputs": [],
   "source": []
  },
  {
   "cell_type": "code",
   "execution_count": null,
   "metadata": {},
   "outputs": [],
   "source": []
  }
 ],
 "metadata": {
  "kernelspec": {
   "display_name": "bettermdptools",
   "language": "python",
   "name": "python3"
  },
  "language_info": {
   "codemirror_mode": {
    "name": "ipython",
    "version": 3
   },
   "file_extension": ".py",
   "mimetype": "text/x-python",
   "name": "python",
   "nbconvert_exporter": "python",
   "pygments_lexer": "ipython3",
   "version": "3.11.7"
  }
 },
 "nbformat": 4,
 "nbformat_minor": 2
}
