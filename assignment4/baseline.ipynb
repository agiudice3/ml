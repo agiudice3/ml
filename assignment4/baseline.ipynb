{
 "cells": [
  {
   "cell_type": "code",
   "execution_count": 5,
   "metadata": {},
   "outputs": [
    {
     "name": "stderr",
     "output_type": "stream",
     "text": [
      "/Users/aaron/Projects/bettermdptools/bettermdptools/lib/python3.11/site-packages/gymnasium/utils/passive_env_checker.py:233: DeprecationWarning: `np.bool8` is a deprecated alias for `np.bool_`.  (Deprecated NumPy 1.24)\n",
      "  if not isinstance(terminated, (bool, np.bool8)):\n"
     ]
    },
    {
     "name": "stdout",
     "output_type": "stream",
     "text": [
      "runtime = 0.01 seconds\n",
      "runtime = 0.01 seconds\n",
      "runtime = 0.01 seconds\n",
      "runtime = 0.01 seconds\n",
      "runtime = 0.03 seconds\n",
      "runtime = 0.03 seconds\n",
      "runtime = 0.01 seconds\n",
      "runtime = 0.02 seconds\n"
     ]
    },
    {
     "name": "stderr",
     "output_type": "stream",
     "text": [
      "                                                       \r"
     ]
    },
    {
     "name": "stdout",
     "output_type": "stream",
     "text": [
      "runtime = 0.51 seconds\n"
     ]
    },
    {
     "name": "stderr",
     "output_type": "stream",
     "text": [
      "                                                       \r"
     ]
    },
    {
     "name": "stdout",
     "output_type": "stream",
     "text": [
      "runtime = 0.48 seconds\n"
     ]
    },
    {
     "name": "stderr",
     "output_type": "stream",
     "text": [
      "                                                       \r"
     ]
    },
    {
     "name": "stdout",
     "output_type": "stream",
     "text": [
      "runtime = 0.50 seconds\n"
     ]
    },
    {
     "name": "stderr",
     "output_type": "stream",
     "text": [
      "                                                       \r"
     ]
    },
    {
     "name": "stdout",
     "output_type": "stream",
     "text": [
      "runtime = 0.50 seconds\n",
      "runtime = 0.42 seconds\n"
     ]
    },
    {
     "name": "stderr",
     "output_type": "stream",
     "text": [
      "/Users/aaron/Projects/bettermdptools/bettermdptools/lib/python3.11/site-packages/gymnasium/utils/passive_env_checker.py:233: DeprecationWarning: `np.bool8` is a deprecated alias for `np.bool_`.  (Deprecated NumPy 1.24)\n",
      "  if not isinstance(terminated, (bool, np.bool8)):\n"
     ]
    },
    {
     "name": "stdout",
     "output_type": "stream",
     "text": [
      "runtime = 0.41 seconds\n",
      "runtime = 0.32 seconds\n",
      "runtime = 0.31 seconds\n",
      "runtime = 0.35 seconds\n",
      "runtime = 0.34 seconds\n",
      "runtime = 0.14 seconds\n",
      "runtime = 0.17 seconds\n"
     ]
    },
    {
     "name": "stderr",
     "output_type": "stream",
     "text": [
      " 10%|▉         | 984/10000 [00:00<00:02, 3283.16it/s]/Users/aaron/Projects/bettermdptools/bettermdptools/algorithms/rl.py:179: UserWarning: Episode was truncated.  Bootstrapping 0 reward.\n",
      "  warnings.warn(\"Episode was truncated.  Bootstrapping 0 reward.\")\n",
      "                                                      \r"
     ]
    },
    {
     "name": "stdout",
     "output_type": "stream",
     "text": [
      "runtime = 6.46 seconds\n"
     ]
    },
    {
     "name": "stderr",
     "output_type": "stream",
     "text": [
      "                                                      \r"
     ]
    },
    {
     "name": "stdout",
     "output_type": "stream",
     "text": [
      "runtime = 6.38 seconds\n"
     ]
    },
    {
     "name": "stderr",
     "output_type": "stream",
     "text": [
      "                                                      \r"
     ]
    },
    {
     "name": "stdout",
     "output_type": "stream",
     "text": [
      "runtime = 8.38 seconds\n"
     ]
    },
    {
     "name": "stderr",
     "output_type": "stream",
     "text": [
      "                                                      \r"
     ]
    },
    {
     "name": "stdout",
     "output_type": "stream",
     "text": [
      "runtime = 8.50 seconds\n",
      "runtime = 3.87 seconds\n"
     ]
    },
    {
     "name": "stderr",
     "output_type": "stream",
     "text": [
      "/Users/aaron/Projects/bettermdptools/bettermdptools/lib/python3.11/site-packages/gymnasium/utils/passive_env_checker.py:233: DeprecationWarning: `np.bool8` is a deprecated alias for `np.bool_`.  (Deprecated NumPy 1.24)\n",
      "  if not isinstance(terminated, (bool, np.bool8)):\n"
     ]
    },
    {
     "name": "stdout",
     "output_type": "stream",
     "text": [
      "runtime = 3.87 seconds\n",
      "runtime = 0.30 seconds\n",
      "runtime = 0.32 seconds\n",
      "runtime = 4.48 seconds\n",
      "runtime = 4.52 seconds\n",
      "runtime = 0.50 seconds\n",
      "runtime = 0.42 seconds\n"
     ]
    },
    {
     "name": "stderr",
     "output_type": "stream",
     "text": [
      "  4%|▍         | 404/10000 [00:00<00:02, 4039.80it/s]/Users/aaron/Projects/bettermdptools/bettermdptools/algorithms/rl.py:179: UserWarning: Episode was truncated.  Bootstrapping 0 reward.\n",
      "  warnings.warn(\"Episode was truncated.  Bootstrapping 0 reward.\")\n",
      "                                                      \r"
     ]
    },
    {
     "name": "stdout",
     "output_type": "stream",
     "text": [
      "runtime = 5.09 seconds\n"
     ]
    },
    {
     "name": "stderr",
     "output_type": "stream",
     "text": [
      "                                                      \r"
     ]
    },
    {
     "name": "stdout",
     "output_type": "stream",
     "text": [
      "runtime = 4.91 seconds\n"
     ]
    },
    {
     "name": "stderr",
     "output_type": "stream",
     "text": [
      "                                                      \r"
     ]
    },
    {
     "name": "stdout",
     "output_type": "stream",
     "text": [
      "runtime = 6.07 seconds\n"
     ]
    },
    {
     "name": "stderr",
     "output_type": "stream",
     "text": [
      "                                                      "
     ]
    },
    {
     "name": "stdout",
     "output_type": "stream",
     "text": [
      "runtime = 5.86 seconds\n"
     ]
    },
    {
     "name": "stderr",
     "output_type": "stream",
     "text": [
      "\r"
     ]
    }
   ],
   "source": [
    "import time\n",
    "import random\n",
    "from typing import Dict\n",
    "\n",
    "import numpy as np\n",
    "import scipy.stats as stats\n",
    "import pandas as pd\n",
    "import gymnasium as gym\n",
    "from bettermdptools.utils.blackjack_wrapper import BlackjackWrapper\n",
    "from bettermdptools.utils.test_env import TestEnv\n",
    "from bettermdptools.algorithms.planner import Planner\n",
    "from bettermdptools.algorithms.rl import RL\n",
    "\n",
    "from grid_search2 import set_seed, check_convergence, check_ql_convergence\n",
    "\n",
    "N_ITERATIONS = 10000\n",
    "SEED = 666\n",
    "CV_JOBS = 2\n",
    "\n",
    "\n",
    "def run_algorithm(\n",
    "    env, algo_name: str, params: Dict[str, float] = None, n_episodes: int = 100\n",
    "):\n",
    "    if algo_name in [\"Q-Learning\", \"QL\"]:\n",
    "        agent = RL(env)\n",
    "\n",
    "        start_time = time.time()\n",
    "        Q, V, pi, Q_track, pi_track = agent.q_learning(**params)\n",
    "        runtime = time.time() - start_time\n",
    "\n",
    "        episode_rewards = TestEnv.test_env(env=env, n_iters=n_episodes, pi=pi)\n",
    "        cumulative_score = np.sum(episode_rewards)\n",
    "        iterations_to_converge = check_ql_convergence(Q_track)\n",
    "\n",
    "    elif algo_name in [\"Value Iteration\", \"VI\"]:\n",
    "        planner = Planner(env.P)\n",
    "\n",
    "        start_time = time.time()\n",
    "        V, V_track, pi = planner.value_iteration(**params)\n",
    "        runtime = time.time() - start_time\n",
    "\n",
    "        episode_rewards = TestEnv.test_env(env=env, n_iters=n_episodes, pi=pi)\n",
    "        cumulative_score = np.sum(episode_rewards)\n",
    "        iterations_to_converge = check_convergence(V_track)\n",
    "\n",
    "    elif algo_name in [\"Policy Iteration\", \"PI\"]:\n",
    "        planner = Planner(env.P)\n",
    "\n",
    "        start_time = time.time()\n",
    "        V, V_track, pi = planner.policy_iteration(**params)\n",
    "        runtime = time.time() - start_time\n",
    "\n",
    "        episode_rewards = TestEnv.test_env(env=env, n_iters=n_episodes, pi=pi)\n",
    "        cumulative_score = np.sum(episode_rewards)\n",
    "        iterations_to_converge = check_convergence(V_track)\n",
    "\n",
    "    return cumulative_score, runtime, iterations_to_converge\n",
    "\n",
    "\n",
    "if __name__ == \"__main__\":\n",
    "    set_seed(SEED)\n",
    "\n",
    "    results = []\n",
    "    t_test_results = []\n",
    "\n",
    "    # set environment\n",
    "    for env_name in [\"Blackjack-v1\", \"FrozenLake8x8-v1\", \"FrozenLake16x16-v1\"]:\n",
    "        if env_name == \"Blackjack-v1\":\n",
    "            base_env = gym.make(\"Blackjack-v1\", render_mode=None)\n",
    "            env = BlackjackWrapper(base_env)\n",
    "\n",
    "        else:\n",
    "            env = gym.make(env_name)\n",
    "\n",
    "        for algo_name in [\"VI\", \"PI\", \"QL\"]:\n",
    "            # load best configuration\n",
    "            df = pd.read_csv(f\"results2/{env_name}/{algo_name}_grid_search_results.csv\")\n",
    "            df = df.sort_values(by=\"cumulative_score\", ascending=False)\n",
    "            best_config = df.to_dict(orient=\"records\")[0]\n",
    "            [\n",
    "                best_config.pop(col)\n",
    "                for col in (\"cumulative_score\", \"runtime\", \"iterations_to_converge\")\n",
    "            ]\n",
    "\n",
    "            best_config_names = list(best_config.keys())\n",
    "            best_config_values = [\n",
    "                best_config[name]\n",
    "                for name in best_config_names\n",
    "                if name != \"n_episodes\" and name != \"n_iters\"\n",
    "            ]\n",
    "            n_iters = best_config.get(\n",
    "                \"n_episodes\", best_config.get(\"n_iters\", N_ITERATIONS)\n",
    "            )\n",
    "\n",
    "            best_config[\"n_episodes\" if \"n_episodes\" in best_config else \"n_iters\"] = (\n",
    "                n_iters  \n",
    "            )\n",
    "\n",
    "            baseline_config = {\n",
    "                \"n_episodes\" if \"n_episodes\" in best_config else \"n_iters\": n_iters\n",
    "            }\n",
    "\n",
    "            # get baseline performance\n",
    "            baseline_scores = []\n",
    "            baseline_runtimes = []\n",
    "            baseline_convergence = []\n",
    "\n",
    "            for _ in range(CV_JOBS):\n",
    "                baseline_score, baseline_runtime, baseline_iters = run_algorithm(\n",
    "                    env=env, algo_name=algo_name, params=baseline_config\n",
    "                )\n",
    "\n",
    "                baseline_scores.append(baseline_score)\n",
    "                baseline_runtimes.append(baseline_runtime)\n",
    "                baseline_convergence.append(baseline_iters)\n",
    "\n",
    "            results.append(\n",
    "                {\n",
    "                    \"environment\": env_name,\n",
    "                    \"algorithm\": algo_name,\n",
    "                    \"configuration\": \"baseline\",\n",
    "                    \"cumulative_score\": np.mean(baseline_scores),\n",
    "                    \"runtime\": np.mean(baseline_runtimes),\n",
    "                    \"iterations_to_converge\": np.mean(baseline_convergence),\n",
    "                }\n",
    "            )\n",
    "\n",
    "            # get performance for best configuration\n",
    "            optimized_scores = []\n",
    "            optimized_runtimes = []\n",
    "            optimized_convergence = []\n",
    "\n",
    "            for _ in range(CV_JOBS):\n",
    "                optimized_score, optimized_runtime, optimized_iters = run_algorithm(\n",
    "                    env=env, algo_name=algo_name, params=best_config\n",
    "                )\n",
    "\n",
    "                optimized_scores.append(optimized_score)\n",
    "                optimized_runtimes.append(optimized_runtime)\n",
    "                optimized_convergence.append(optimized_iters)\n",
    "\n",
    "            results.append(\n",
    "                {\n",
    "                    \"environment\": env_name,\n",
    "                    \"algorithm\": algo_name,\n",
    "                    \"configuration\": \"grid search\",\n",
    "                    \"cumulative_score\": np.mean(optimized_scores),\n",
    "                    \"runtime\": np.mean(optimized_runtimes),\n",
    "                    \"iterations_to_converge\": np.mean(optimized_convergence),\n",
    "                }\n",
    "            )\n",
    "\n",
    "            # T-test for scores\n",
    "            t_stat, p_value = stats.ttest_rel(baseline_scores, optimized_scores)\n",
    "            isValid = p_value < 0.05\n",
    "            t_test_results.append(\n",
    "                {\n",
    "                    \"environment\": env_name,\n",
    "                    \"algorithm\": algo_name,\n",
    "                    \"t_stat\": t_stat,\n",
    "                    \"p_value\": p_value,\n",
    "                    \"isValid\": isValid,\n",
    "                }\n",
    "            )"
   ]
  },
  {
   "cell_type": "code",
   "execution_count": 8,
   "metadata": {},
   "outputs": [
    {
     "data": {
      "text/html": [
       "<div>\n",
       "<style scoped>\n",
       "    .dataframe tbody tr th:only-of-type {\n",
       "        vertical-align: middle;\n",
       "    }\n",
       "\n",
       "    .dataframe tbody tr th {\n",
       "        vertical-align: top;\n",
       "    }\n",
       "\n",
       "    .dataframe thead th {\n",
       "        text-align: right;\n",
       "    }\n",
       "</style>\n",
       "<table border=\"1\" class=\"dataframe\">\n",
       "  <thead>\n",
       "    <tr style=\"text-align: right;\">\n",
       "      <th></th>\n",
       "      <th>environment</th>\n",
       "      <th>algorithm</th>\n",
       "      <th>configuration</th>\n",
       "      <th>cumulative_score</th>\n",
       "      <th>runtime</th>\n",
       "      <th>iterations_to_converge</th>\n",
       "    </tr>\n",
       "  </thead>\n",
       "  <tbody>\n",
       "    <tr>\n",
       "      <th>0</th>\n",
       "      <td>Blackjack-v1</td>\n",
       "      <td>VI</td>\n",
       "      <td>baseline</td>\n",
       "      <td>0.0</td>\n",
       "      <td>0.014716</td>\n",
       "      <td>8.0</td>\n",
       "    </tr>\n",
       "    <tr>\n",
       "      <th>1</th>\n",
       "      <td>Blackjack-v1</td>\n",
       "      <td>VI</td>\n",
       "      <td>grid search</td>\n",
       "      <td>2.5</td>\n",
       "      <td>0.011255</td>\n",
       "      <td>7.0</td>\n",
       "    </tr>\n",
       "    <tr>\n",
       "      <th>2</th>\n",
       "      <td>Blackjack-v1</td>\n",
       "      <td>PI</td>\n",
       "      <td>baseline</td>\n",
       "      <td>10.0</td>\n",
       "      <td>0.027079</td>\n",
       "      <td>6.0</td>\n",
       "    </tr>\n",
       "    <tr>\n",
       "      <th>3</th>\n",
       "      <td>Blackjack-v1</td>\n",
       "      <td>PI</td>\n",
       "      <td>grid search</td>\n",
       "      <td>-22.0</td>\n",
       "      <td>0.016395</td>\n",
       "      <td>5.5</td>\n",
       "    </tr>\n",
       "    <tr>\n",
       "      <th>4</th>\n",
       "      <td>Blackjack-v1</td>\n",
       "      <td>QL</td>\n",
       "      <td>baseline</td>\n",
       "      <td>-15.5</td>\n",
       "      <td>0.496870</td>\n",
       "      <td>16.0</td>\n",
       "    </tr>\n",
       "    <tr>\n",
       "      <th>5</th>\n",
       "      <td>Blackjack-v1</td>\n",
       "      <td>QL</td>\n",
       "      <td>grid search</td>\n",
       "      <td>4.0</td>\n",
       "      <td>0.501511</td>\n",
       "      <td>19.5</td>\n",
       "    </tr>\n",
       "    <tr>\n",
       "      <th>6</th>\n",
       "      <td>FrozenLake8x8-v1</td>\n",
       "      <td>VI</td>\n",
       "      <td>baseline</td>\n",
       "      <td>93.0</td>\n",
       "      <td>0.417584</td>\n",
       "      <td>467.0</td>\n",
       "    </tr>\n",
       "    <tr>\n",
       "      <th>7</th>\n",
       "      <td>FrozenLake8x8-v1</td>\n",
       "      <td>VI</td>\n",
       "      <td>grid search</td>\n",
       "      <td>88.0</td>\n",
       "      <td>0.316876</td>\n",
       "      <td>467.0</td>\n",
       "    </tr>\n",
       "    <tr>\n",
       "      <th>8</th>\n",
       "      <td>FrozenLake8x8-v1</td>\n",
       "      <td>PI</td>\n",
       "      <td>baseline</td>\n",
       "      <td>90.0</td>\n",
       "      <td>0.343897</td>\n",
       "      <td>7.0</td>\n",
       "    </tr>\n",
       "    <tr>\n",
       "      <th>9</th>\n",
       "      <td>FrozenLake8x8-v1</td>\n",
       "      <td>PI</td>\n",
       "      <td>grid search</td>\n",
       "      <td>89.0</td>\n",
       "      <td>0.155575</td>\n",
       "      <td>7.5</td>\n",
       "    </tr>\n",
       "    <tr>\n",
       "      <th>10</th>\n",
       "      <td>FrozenLake8x8-v1</td>\n",
       "      <td>QL</td>\n",
       "      <td>baseline</td>\n",
       "      <td>0.0</td>\n",
       "      <td>6.417542</td>\n",
       "      <td>1.0</td>\n",
       "    </tr>\n",
       "    <tr>\n",
       "      <th>11</th>\n",
       "      <td>FrozenLake8x8-v1</td>\n",
       "      <td>QL</td>\n",
       "      <td>grid search</td>\n",
       "      <td>0.0</td>\n",
       "      <td>8.438186</td>\n",
       "      <td>1.0</td>\n",
       "    </tr>\n",
       "    <tr>\n",
       "      <th>12</th>\n",
       "      <td>FrozenLake16x16-v1</td>\n",
       "      <td>VI</td>\n",
       "      <td>baseline</td>\n",
       "      <td>16.0</td>\n",
       "      <td>3.871351</td>\n",
       "      <td>749.0</td>\n",
       "    </tr>\n",
       "    <tr>\n",
       "      <th>13</th>\n",
       "      <td>FrozenLake16x16-v1</td>\n",
       "      <td>VI</td>\n",
       "      <td>grid search</td>\n",
       "      <td>38.0</td>\n",
       "      <td>0.305611</td>\n",
       "      <td>145.0</td>\n",
       "    </tr>\n",
       "    <tr>\n",
       "      <th>14</th>\n",
       "      <td>FrozenLake16x16-v1</td>\n",
       "      <td>PI</td>\n",
       "      <td>baseline</td>\n",
       "      <td>20.5</td>\n",
       "      <td>4.497176</td>\n",
       "      <td>20.0</td>\n",
       "    </tr>\n",
       "    <tr>\n",
       "      <th>15</th>\n",
       "      <td>FrozenLake16x16-v1</td>\n",
       "      <td>PI</td>\n",
       "      <td>grid search</td>\n",
       "      <td>44.0</td>\n",
       "      <td>0.461007</td>\n",
       "      <td>7.5</td>\n",
       "    </tr>\n",
       "    <tr>\n",
       "      <th>16</th>\n",
       "      <td>FrozenLake16x16-v1</td>\n",
       "      <td>QL</td>\n",
       "      <td>baseline</td>\n",
       "      <td>0.0</td>\n",
       "      <td>4.999582</td>\n",
       "      <td>1.0</td>\n",
       "    </tr>\n",
       "    <tr>\n",
       "      <th>17</th>\n",
       "      <td>FrozenLake16x16-v1</td>\n",
       "      <td>QL</td>\n",
       "      <td>grid search</td>\n",
       "      <td>0.0</td>\n",
       "      <td>5.963557</td>\n",
       "      <td>1.0</td>\n",
       "    </tr>\n",
       "  </tbody>\n",
       "</table>\n",
       "</div>"
      ],
      "text/plain": [
       "           environment algorithm configuration  cumulative_score   runtime  \\\n",
       "0         Blackjack-v1        VI      baseline               0.0  0.014716   \n",
       "1         Blackjack-v1        VI   grid search               2.5  0.011255   \n",
       "2         Blackjack-v1        PI      baseline              10.0  0.027079   \n",
       "3         Blackjack-v1        PI   grid search             -22.0  0.016395   \n",
       "4         Blackjack-v1        QL      baseline             -15.5  0.496870   \n",
       "5         Blackjack-v1        QL   grid search               4.0  0.501511   \n",
       "6     FrozenLake8x8-v1        VI      baseline              93.0  0.417584   \n",
       "7     FrozenLake8x8-v1        VI   grid search              88.0  0.316876   \n",
       "8     FrozenLake8x8-v1        PI      baseline              90.0  0.343897   \n",
       "9     FrozenLake8x8-v1        PI   grid search              89.0  0.155575   \n",
       "10    FrozenLake8x8-v1        QL      baseline               0.0  6.417542   \n",
       "11    FrozenLake8x8-v1        QL   grid search               0.0  8.438186   \n",
       "12  FrozenLake16x16-v1        VI      baseline              16.0  3.871351   \n",
       "13  FrozenLake16x16-v1        VI   grid search              38.0  0.305611   \n",
       "14  FrozenLake16x16-v1        PI      baseline              20.5  4.497176   \n",
       "15  FrozenLake16x16-v1        PI   grid search              44.0  0.461007   \n",
       "16  FrozenLake16x16-v1        QL      baseline               0.0  4.999582   \n",
       "17  FrozenLake16x16-v1        QL   grid search               0.0  5.963557   \n",
       "\n",
       "    iterations_to_converge  \n",
       "0                      8.0  \n",
       "1                      7.0  \n",
       "2                      6.0  \n",
       "3                      5.5  \n",
       "4                     16.0  \n",
       "5                     19.5  \n",
       "6                    467.0  \n",
       "7                    467.0  \n",
       "8                      7.0  \n",
       "9                      7.5  \n",
       "10                     1.0  \n",
       "11                     1.0  \n",
       "12                   749.0  \n",
       "13                   145.0  \n",
       "14                    20.0  \n",
       "15                     7.5  \n",
       "16                     1.0  \n",
       "17                     1.0  "
      ]
     },
     "metadata": {},
     "output_type": "display_data"
    }
   ],
   "source": [
    "results_df = pd.DataFrame(results)\n",
    "display(results_df)"
   ]
  },
  {
   "cell_type": "code",
   "execution_count": 7,
   "metadata": {},
   "outputs": [
    {
     "data": {
      "text/html": [
       "<div>\n",
       "<style scoped>\n",
       "    .dataframe tbody tr th:only-of-type {\n",
       "        vertical-align: middle;\n",
       "    }\n",
       "\n",
       "    .dataframe tbody tr th {\n",
       "        vertical-align: top;\n",
       "    }\n",
       "\n",
       "    .dataframe thead th {\n",
       "        text-align: right;\n",
       "    }\n",
       "</style>\n",
       "<table border=\"1\" class=\"dataframe\">\n",
       "  <thead>\n",
       "    <tr style=\"text-align: right;\">\n",
       "      <th></th>\n",
       "      <th>environment</th>\n",
       "      <th>algorithm</th>\n",
       "      <th>t_stat</th>\n",
       "      <th>p_value</th>\n",
       "      <th>isValid</th>\n",
       "    </tr>\n",
       "  </thead>\n",
       "  <tbody>\n",
       "    <tr>\n",
       "      <th>0</th>\n",
       "      <td>Blackjack-v1</td>\n",
       "      <td>VI</td>\n",
       "      <td>-5.000000</td>\n",
       "      <td>0.125666</td>\n",
       "      <td>False</td>\n",
       "    </tr>\n",
       "    <tr>\n",
       "      <th>1</th>\n",
       "      <td>Blackjack-v1</td>\n",
       "      <td>PI</td>\n",
       "      <td>4.000000</td>\n",
       "      <td>0.155958</td>\n",
       "      <td>False</td>\n",
       "    </tr>\n",
       "    <tr>\n",
       "      <th>2</th>\n",
       "      <td>Blackjack-v1</td>\n",
       "      <td>QL</td>\n",
       "      <td>-4.333333</td>\n",
       "      <td>0.144385</td>\n",
       "      <td>False</td>\n",
       "    </tr>\n",
       "    <tr>\n",
       "      <th>3</th>\n",
       "      <td>FrozenLake8x8-v1</td>\n",
       "      <td>VI</td>\n",
       "      <td>1.250000</td>\n",
       "      <td>0.429553</td>\n",
       "      <td>False</td>\n",
       "    </tr>\n",
       "    <tr>\n",
       "      <th>4</th>\n",
       "      <td>FrozenLake8x8-v1</td>\n",
       "      <td>PI</td>\n",
       "      <td>0.333333</td>\n",
       "      <td>0.795167</td>\n",
       "      <td>False</td>\n",
       "    </tr>\n",
       "    <tr>\n",
       "      <th>5</th>\n",
       "      <td>FrozenLake8x8-v1</td>\n",
       "      <td>QL</td>\n",
       "      <td>NaN</td>\n",
       "      <td>NaN</td>\n",
       "      <td>False</td>\n",
       "    </tr>\n",
       "    <tr>\n",
       "      <th>6</th>\n",
       "      <td>FrozenLake16x16-v1</td>\n",
       "      <td>VI</td>\n",
       "      <td>-22.000000</td>\n",
       "      <td>0.028917</td>\n",
       "      <td>True</td>\n",
       "    </tr>\n",
       "    <tr>\n",
       "      <th>7</th>\n",
       "      <td>FrozenLake16x16-v1</td>\n",
       "      <td>PI</td>\n",
       "      <td>-4.272727</td>\n",
       "      <td>0.146362</td>\n",
       "      <td>False</td>\n",
       "    </tr>\n",
       "    <tr>\n",
       "      <th>8</th>\n",
       "      <td>FrozenLake16x16-v1</td>\n",
       "      <td>QL</td>\n",
       "      <td>NaN</td>\n",
       "      <td>NaN</td>\n",
       "      <td>False</td>\n",
       "    </tr>\n",
       "  </tbody>\n",
       "</table>\n",
       "</div>"
      ],
      "text/plain": [
       "          environment algorithm     t_stat   p_value  isValid\n",
       "0        Blackjack-v1        VI  -5.000000  0.125666    False\n",
       "1        Blackjack-v1        PI   4.000000  0.155958    False\n",
       "2        Blackjack-v1        QL  -4.333333  0.144385    False\n",
       "3    FrozenLake8x8-v1        VI   1.250000  0.429553    False\n",
       "4    FrozenLake8x8-v1        PI   0.333333  0.795167    False\n",
       "5    FrozenLake8x8-v1        QL        NaN       NaN    False\n",
       "6  FrozenLake16x16-v1        VI -22.000000  0.028917     True\n",
       "7  FrozenLake16x16-v1        PI  -4.272727  0.146362    False\n",
       "8  FrozenLake16x16-v1        QL        NaN       NaN    False"
      ]
     },
     "metadata": {},
     "output_type": "display_data"
    }
   ],
   "source": [
    "t_test_results_df = pd.DataFrame(t_test_results)\n",
    "display(t_test_results_df)"
   ]
  },
  {
   "cell_type": "code",
   "execution_count": null,
   "metadata": {},
   "outputs": [],
   "source": []
  }
 ],
 "metadata": {
  "kernelspec": {
   "display_name": "bettermdptools",
   "language": "python",
   "name": "python3"
  },
  "language_info": {
   "codemirror_mode": {
    "name": "ipython",
    "version": 3
   },
   "file_extension": ".py",
   "mimetype": "text/x-python",
   "name": "python",
   "nbconvert_exporter": "python",
   "pygments_lexer": "ipython3",
   "version": "3.11.7"
  }
 },
 "nbformat": 4,
 "nbformat_minor": 2
}
